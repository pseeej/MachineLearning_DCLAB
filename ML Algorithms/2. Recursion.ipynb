{
 "cells": [
  {
   "cell_type": "markdown",
   "metadata": {},
   "source": [
    "# 1. 학습 데이터를 확인하자"
   ]
  },
  {
   "cell_type": "code",
   "execution_count": 1,
   "metadata": {},
   "outputs": [
    {
     "data": {
      "image/png": "[encoded data removed]",
      "text/plain": [
       "<Figure size 432x288 with 1 Axes>"
      ]
     },
     "metadata": {
      "needs_background": "light"
     },
     "output_type": "display_data"
    }
   ],
   "source": [
    "import numpy as np\n",
    "import matplotlib.pyplot as plt\n",
    "\n",
    "# 학습 데이터를 읽는다.\n",
    "train = np.loadtxt('click.csv', delimiter=',', dtype='int', skiprows=1)\n",
    "train_x = train[:,0]\n",
    "train_y = train[:,1]\n",
    "\n",
    "# 점 그래프를 그린다\n",
    "plt.plot(train_x, train_y, 'o')\n",
    "plt.show()"
   ]
  },
  {
   "cell_type": "markdown",
   "metadata": {},
   "source": [
    "# 1차함수로 구현한다"
   ]
  },
  {
   "cell_type": "code",
   "execution_count": 2,
   "metadata": {},
   "outputs": [],
   "source": [
    "# 매개변수를 초기화한다\n",
    "theta0 = np.random.rand()\n",
    "theta1 = np.random.rand()\n",
    "\n",
    "# 예측함수\n",
    "def f(x):\n",
    "    return theta0 + theta1 * x\n",
    "\n",
    "# 목적함수\n",
    "def E(x, y):\n",
    "    return 0.5 * np.sum((y-f(x))**2)"
   ]
  },
  {
   "cell_type": "code",
   "execution_count": 3,
   "metadata": {},
   "outputs": [],
   "source": [
    "# 표준화\n",
    "# 미리 해두면 매개변수가 빨리 수렴하게 됨.\n",
    "# z = (x - avg)/sigma\n",
    "\n",
    "mu = train_x.mean()\n",
    "sigma = train_x.std()\n",
    "\n",
    "def standardize(x):\n",
    "    return (x-mu)/sigma\n",
    "\n",
    "train_z = standardize(train_x)"
   ]
  },
  {
   "cell_type": "code",
   "execution_count": 4,
   "metadata": {},
   "outputs": [
    {
     "data": {
      "image/png": "[encoded data removed]",
      "text/plain": [
       "<Figure size 432x288 with 1 Axes>"
      ]
     },
     "metadata": {
      "needs_background": "light"
     },
     "output_type": "display_data"
    }
   ],
   "source": [
    "# 그래프로 나타내기\n",
    "plt.plot(train_z, train_y, 'o')\n",
    "plt.show()"
   ]
  },
  {
   "cell_type": "code",
   "execution_count": 5,
   "metadata": {},
   "outputs": [
    {
     "name": "stdout",
     "output_type": "stream",
     "text": [
      "1회째 : theta0 = 8.945, theta1 = 2.540, 차분 = 76215.5812\n",
      "2회째 : theta0 = 17.349, theta1 = 4.358, 차분 = 73197.4442\n",
      "3회째 : theta0 = 25.585, theta1 = 6.141, 차분 = 70298.8254\n",
      "4회째 : theta0 = 33.657, theta1 = 7.888, 차분 = 67514.9919\n",
      "5회째 : theta0 = 41.566, theta1 = 9.599, 차분 = 64841.3982\n",
      "6회째 : theta0 = 49.318, theta1 = 11.277, 차분 = 62273.6788\n",
      "7회째 : theta0 = 56.915, theta1 = 12.921, 차분 = 59807.6412\n",
      "8회째 : theta0 = 64.359, theta1 = 14.532, 차분 = 57439.2586\n",
      "9회째 : theta0 = 71.655, theta1 = 16.111, 차분 = 55164.6639\n",
      "10회째 : theta0 = 78.805, theta1 = 17.658, 차분 = 52980.1432\n",
      "11회째 : theta0 = 85.812, theta1 = 19.175, 차분 = 50882.1296\n",
      "12회째 : theta0 = 92.679, theta1 = 20.661, 차분 = 48867.1972\n",
      "13회째 : theta0 = 99.408, theta1 = 22.117, 차분 = 46932.0562\n",
      "14회째 : theta0 = 106.003, theta1 = 23.545, 차분 = 45073.5468\n",
      "15회째 : theta0 = 112.466, theta1 = 24.943, 차분 = 43288.6343\n",
      "16회째 : theta0 = 118.800, theta1 = 26.314, 차분 = 41574.4044\n",
      "17회째 : theta0 = 125.007, theta1 = 27.657, 차분 = 39928.0580\n",
      "18회째 : theta0 = 131.090, theta1 = 28.974, 차분 = 38346.9069\n",
      "19회째 : theta0 = 137.051, theta1 = 30.264, 차분 = 36828.3694\n",
      "20회째 : theta0 = 142.893, theta1 = 31.528, 차분 = 35369.9660\n",
      "21회째 : theta0 = 148.618, theta1 = 32.767, 차분 = 33969.3153\n",
      "22회째 : theta0 = 154.229, theta1 = 33.981, 차분 = 32624.1304\n",
      "23회째 : theta0 = 159.727, theta1 = 35.171, 차분 = 31332.2149\n",
      "24회째 : theta0 = 165.115, theta1 = 36.337, 차분 = 30091.4592\n",
      "25회째 : theta0 = 170.396, theta1 = 37.480, 차분 = 28899.8374\n",
      "26회째 : theta0 = 175.571, theta1 = 38.600, 차분 = 27755.4038\n",
      "27회째 : theta0 = 180.643, theta1 = 39.698, 차분 = 26656.2898\n",
      "28회째 : theta0 = 185.613, theta1 = 40.773, 차분 = 25600.7007\n",
      "29회째 : theta0 = 190.484, theta1 = 41.828, 차분 = 24586.9130\n",
      "30회째 : theta0 = 195.257, theta1 = 42.861, 차분 = 23613.2712\n",
      "31회째 : theta0 = 199.935, theta1 = 43.873, 차분 = 22678.1857\n",
      "32회째 : theta0 = 204.519, theta1 = 44.865, 차분 = 21780.1295\n",
      "33회째 : theta0 = 209.012, theta1 = 45.837, 차분 = 20917.6364\n",
      "34회째 : theta0 = 213.415, theta1 = 46.790, 차분 = 20089.2980\n",
      "35회째 : theta0 = 217.729, theta1 = 47.724, 차분 = 19293.7618\n",
      "36회째 : theta0 = 221.958, theta1 = 48.639, 차분 = 18529.7288\n",
      "37회째 : theta0 = 226.102, theta1 = 49.536, 차분 = 17795.9516\n",
      "38회째 : theta0 = 230.162, theta1 = 50.415, 차분 = 17091.2319\n",
      "39회째 : theta0 = 234.142, theta1 = 51.276, 차분 = 16414.4191\n",
      "40회째 : theta0 = 238.042, theta1 = 52.120, 차분 = 15764.4081\n",
      "41회째 : theta0 = 241.865, theta1 = 52.947, 차분 = 15140.1376\n",
      "42회째 : theta0 = 245.610, theta1 = 53.758, 차분 = 14540.5881\n",
      "43회째 : theta0 = 249.281, theta1 = 54.552, 차분 = 13964.7808\n",
      "44회째 : theta0 = 252.878, theta1 = 55.331, 차분 = 13411.7755\n",
      "45회째 : theta0 = 256.404, theta1 = 56.094, 차분 = 12880.6692\n",
      "46회째 : theta0 = 259.859, theta1 = 56.841, 차분 = 12370.5947\n",
      "47회째 : theta0 = 263.245, theta1 = 57.574, 차분 = 11880.7191\n",
      "48회째 : theta0 = 266.563, theta1 = 58.292, 차분 = 11410.2427\n",
      "49회째 : theta0 = 269.814, theta1 = 58.996, 차분 = 10958.3971\n",
      "50회째 : theta0 = 273.001, theta1 = 59.686, 차분 = 10524.4445\n",
      "51회째 : theta0 = 276.124, theta1 = 60.362, 차분 = 10107.6765\n",
      "52회째 : theta0 = 279.185, theta1 = 61.024, 차분 = 9707.4125\n",
      "53회째 : theta0 = 282.184, theta1 = 61.673, 차분 = 9322.9990\n",
      "54회째 : theta0 = 285.123, theta1 = 62.309, 차분 = 8953.8082\n",
      "55회째 : theta0 = 288.004, theta1 = 62.932, 차분 = 8599.2374\n",
      "56회째 : theta0 = 290.827, theta1 = 63.543, 차분 = 8258.7076\n",
      "57회째 : theta0 = 293.593, theta1 = 64.142, 차분 = 7931.6628\n",
      "58회째 : theta0 = 296.304, theta1 = 64.729, 차분 = 7617.5690\n",
      "59회째 : theta0 = 298.961, theta1 = 65.304, 차분 = 7315.9132\n",
      "60회째 : theta0 = 301.565, theta1 = 65.867, 차분 = 7026.2031\n",
      "61회째 : theta0 = 304.117, theta1 = 66.420, 차분 = 6747.9654\n",
      "62회째 : theta0 = 306.617, theta1 = 66.961, 차분 = 6480.7460\n",
      "63회째 : theta0 = 309.068, theta1 = 67.491, 차분 = 6224.1085\n",
      "64회째 : theta0 = 311.470, theta1 = 68.011, 차분 = 5977.6338\n",
      "65회째 : theta0 = 313.823, theta1 = 68.520, 차분 = 5740.9195\n",
      "66회째 : theta0 = 316.130, theta1 = 69.019, 차분 = 5513.5791\n",
      "67회째 : theta0 = 318.390, theta1 = 69.509, 차분 = 5295.2413\n",
      "68회째 : theta0 = 320.605, theta1 = 69.988, 차분 = 5085.5498\n",
      "69회째 : theta0 = 322.776, theta1 = 70.458, 차분 = 4884.1620\n",
      "70회째 : theta0 = 324.904, theta1 = 70.918, 차분 = 4690.7492\n",
      "71회째 : theta0 = 326.989, theta1 = 71.369, 차분 = 4504.9955\n",
      "72회째 : theta0 = 329.032, theta1 = 71.812, 차분 = 4326.5977\n",
      "73회째 : theta0 = 331.034, theta1 = 72.245, 차분 = 4155.2644\n",
      "74회째 : theta0 = 332.997, theta1 = 72.670, 차분 = 3990.7159\n",
      "75회째 : theta0 = 334.920, theta1 = 73.086, 차분 = 3832.6836\n",
      "76회째 : theta0 = 336.804, theta1 = 73.494, 차분 = 3680.9093\n",
      "77회째 : theta0 = 338.651, theta1 = 73.893, 차분 = 3535.1453\n",
      "78회째 : theta0 = 340.461, theta1 = 74.285, 차분 = 3395.1536\n",
      "79회째 : theta0 = 342.235, theta1 = 74.669, 차분 = 3260.7055\n",
      "80회째 : theta0 = 343.973, theta1 = 75.045, 차분 = 3131.5815\n",
      "81회째 : theta0 = 345.677, theta1 = 75.414, 차분 = 3007.5709\n",
      "82회째 : theta0 = 347.346, theta1 = 75.775, 차분 = 2888.4711\n",
      "83회째 : theta0 = 348.982, theta1 = 76.129, 차분 = 2774.0877\n",
      "84회째 : theta0 = 350.586, theta1 = 76.476, 차분 = 2664.2338\n",
      "85회째 : theta0 = 352.157, theta1 = 76.816, 차분 = 2558.7301\n",
      "86회째 : theta0 = 353.697, theta1 = 77.149, 차분 = 2457.4044\n",
      "87회째 : theta0 = 355.206, theta1 = 77.476, 차분 = 2360.0912\n",
      "88회째 : theta0 = 356.685, theta1 = 77.796, 차분 = 2266.6316\n",
      "89회째 : theta0 = 358.134, theta1 = 78.110, 차분 = 2176.8730\n",
      "90회째 : theta0 = 359.554, theta1 = 78.417, 차분 = 2090.6688\n",
      "91회째 : theta0 = 360.946, theta1 = 78.718, 차분 = 2007.8783\n",
      "92회째 : theta0 = 362.310, theta1 = 79.014, 차분 = 1928.3663\n",
      "93회째 : theta0 = 363.647, theta1 = 79.303, 차분 = 1852.0030\n",
      "94회째 : theta0 = 364.957, theta1 = 79.586, 차분 = 1778.6637\n",
      "95회째 : theta0 = 366.241, theta1 = 79.864, 차분 = 1708.2286\n",
      "96회째 : theta0 = 367.499, theta1 = 80.137, 차분 = 1640.5828\n",
      "97회째 : theta0 = 368.732, theta1 = 80.403, 차분 = 1575.6157\n",
      "98회째 : theta0 = 369.941, theta1 = 80.665, 차분 = 1513.2213\n",
      "99회째 : theta0 = 371.125, theta1 = 80.921, 차분 = 1453.2978\n",
      "100회째 : theta0 = 372.285, theta1 = 81.172, 차분 = 1395.7472\n",
      "101회째 : theta0 = 373.423, theta1 = 81.418, 차분 = 1340.4756\n",
      "102회째 : theta0 = 374.537, theta1 = 81.660, 차분 = 1287.3927\n",
      "103회째 : theta0 = 375.629, theta1 = 81.896, 차분 = 1236.4120\n",
      "104회째 : theta0 = 376.700, theta1 = 82.128, 차분 = 1187.4501\n",
      "105회째 : theta0 = 377.749, theta1 = 82.355, 차분 = 1140.4270\n",
      "106회째 : theta0 = 378.777, theta1 = 82.577, 차분 = 1095.2661\n",
      "107회째 : theta0 = 379.784, theta1 = 82.795, 차분 = 1051.8936\n",
      "108회째 : theta0 = 380.772, theta1 = 83.009, 차분 = 1010.2386\n",
      "109회째 : theta0 = 381.739, theta1 = 83.218, 차분 = 970.2332\n",
      "110회째 : theta0 = 382.687, theta1 = 83.424, 차분 = 931.8119\n",
      "111회째 : theta0 = 383.617, theta1 = 83.625, 차분 = 894.9122\n",
      "112회째 : theta0 = 384.527, theta1 = 83.822, 차분 = 859.4737\n",
      "113회째 : theta0 = 385.420, theta1 = 84.015, 차분 = 825.4385\n",
      "114회째 : theta0 = 386.294, theta1 = 84.204, 차분 = 792.7511\n",
      "115회째 : theta0 = 387.152, theta1 = 84.390, 차분 = 761.3582\n",
      "116회째 : theta0 = 387.991, theta1 = 84.571, 차분 = 731.2084\n",
      "117회째 : theta0 = 388.815, theta1 = 84.750, 차분 = 702.2526\n",
      "118회째 : theta0 = 389.621, theta1 = 84.924, 차분 = 674.4434\n",
      "119회째 : theta0 = 390.412, theta1 = 85.095, 차분 = 647.7354\n",
      "120회째 : theta0 = 391.187, theta1 = 85.263, 차분 = 622.0851\n",
      "121회째 : theta0 = 391.946, theta1 = 85.427, 차분 = 597.4505\n",
      "122회째 : theta0 = 392.690, theta1 = 85.588, 차분 = 573.7915\n",
      "123회째 : theta0 = 393.419, theta1 = 85.746, 차분 = 551.0693\n",
      "124회째 : theta0 = 394.134, theta1 = 85.901, 차분 = 529.2470\n",
      "125회째 : theta0 = 394.834, theta1 = 86.052, 차분 = 508.2888\n",
      "126회째 : theta0 = 395.520, theta1 = 86.201, 차분 = 488.1606\n",
      "127회째 : theta0 = 396.193, theta1 = 86.346, 차분 = 468.8294\n",
      "128회째 : theta0 = 396.852, theta1 = 86.489, 차분 = 450.2638\n",
      "129회째 : theta0 = 397.498, theta1 = 86.629, 차분 = 432.4333\n",
      "130회째 : theta0 = 398.131, theta1 = 86.766, 차분 = 415.3090\n",
      "131회째 : theta0 = 398.752, theta1 = 86.900, 차분 = 398.8627\n",
      "132회째 : theta0 = 399.360, theta1 = 87.032, 차분 = 383.0678\n",
      "133회째 : theta0 = 399.955, theta1 = 87.161, 차분 = 367.8983\n",
      "134회째 : theta0 = 400.539, theta1 = 87.287, 차분 = 353.3295\n",
      "135회째 : theta0 = 401.111, theta1 = 87.411, 차분 = 339.3377\n",
      "136회째 : theta0 = 401.672, theta1 = 87.532, 차분 = 325.8999\n",
      "137회째 : theta0 = 402.222, theta1 = 87.651, 차분 = 312.9942\n",
      "138회째 : theta0 = 402.760, theta1 = 87.768, 차분 = 300.5997\n",
      "139회째 : theta0 = 403.288, theta1 = 87.882, 차분 = 288.6959\n",
      "140회째 : theta0 = 403.805, theta1 = 87.994, 차분 = 277.2636\n",
      "141회째 : theta0 = 404.312, theta1 = 88.103, 차분 = 266.2839\n",
      "142회째 : theta0 = 404.809, theta1 = 88.211, 차분 = 255.7391\n",
      "143회째 : theta0 = 405.296, theta1 = 88.316, 차분 = 245.6118\n",
      "144회째 : theta0 = 405.773, theta1 = 88.420, 차분 = 235.8856\n",
      "145회째 : theta0 = 406.240, theta1 = 88.521, 차분 = 226.5445\n",
      "146회째 : theta0 = 406.699, theta1 = 88.620, 차분 = 217.5734\n",
      "147회째 : theta0 = 407.148, theta1 = 88.717, 차분 = 208.9575\n",
      "148회째 : theta0 = 407.588, theta1 = 88.812, 차분 = 200.6827\n",
      "149회째 : theta0 = 408.019, theta1 = 88.906, 차분 = 192.7357\n",
      "150회째 : theta0 = 408.442, theta1 = 88.997, 차분 = 185.1034\n",
      "151회째 : theta0 = 408.856, theta1 = 89.087, 차분 = 177.7733\n",
      "152회째 : theta0 = 409.262, theta1 = 89.175, 차분 = 170.7335\n",
      "153회째 : theta0 = 409.659, theta1 = 89.261, 차분 = 163.9724\n",
      "154회째 : theta0 = 410.049, theta1 = 89.345, 차분 = 157.4791\n",
      "155회째 : theta0 = 410.431, theta1 = 89.428, 차분 = 151.2429\n",
      "156회째 : theta0 = 410.806, theta1 = 89.509, 차분 = 145.2537\n",
      "157회째 : theta0 = 411.173, theta1 = 89.588, 차분 = 139.5017\n",
      "158회째 : theta0 = 411.532, theta1 = 89.666, 차분 = 133.9774\n",
      "159회째 : theta0 = 411.884, theta1 = 89.742, 차분 = 128.6719\n",
      "160회째 : theta0 = 412.230, theta1 = 89.817, 차분 = 123.5765\n",
      "161회째 : theta0 = 412.568, theta1 = 89.890, 차분 = 118.6829\n",
      "162회째 : theta0 = 412.900, theta1 = 89.962, 차분 = 113.9830\n",
      "163회째 : theta0 = 413.225, theta1 = 90.032, 차분 = 109.4693\n",
      "164회째 : theta0 = 413.543, theta1 = 90.101, 차분 = 105.1343\n",
      "165회째 : theta0 = 413.855, theta1 = 90.169, 차분 = 100.9710\n",
      "166회째 : theta0 = 414.161, theta1 = 90.235, 차분 = 96.9725\n",
      "167회째 : theta0 = 414.461, theta1 = 90.300, 차분 = 93.1324\n",
      "168회째 : theta0 = 414.755, theta1 = 90.363, 차분 = 89.4444\n",
      "169회째 : theta0 = 415.043, theta1 = 90.426, 차분 = 85.9024\n",
      "170회째 : theta0 = 415.325, theta1 = 90.487, 차분 = 82.5006\n",
      "171회째 : theta0 = 415.601, theta1 = 90.547, 차분 = 79.2336\n",
      "172회째 : theta0 = 415.872, theta1 = 90.605, 차분 = 76.0960\n",
      "173회째 : theta0 = 416.138, theta1 = 90.663, 차분 = 73.0826\n",
      "174회째 : theta0 = 416.398, theta1 = 90.719, 차분 = 70.1885\n",
      "175회째 : theta0 = 416.653, theta1 = 90.774, 차분 = 67.4090\n",
      "176회째 : theta0 = 416.903, theta1 = 90.828, 차분 = 64.7396\n",
      "177회째 : theta0 = 417.148, theta1 = 90.881, 차분 = 62.1759\n",
      "178회째 : theta0 = 417.388, theta1 = 90.933, 차분 = 59.7138\n",
      "179회째 : theta0 = 417.623, theta1 = 90.984, 차분 = 57.3491\n",
      "180회째 : theta0 = 417.854, theta1 = 91.034, 차분 = 55.0781\n",
      "181회째 : theta0 = 418.080, theta1 = 91.083, 차분 = 52.8970\n",
      "182회째 : theta0 = 418.301, theta1 = 91.131, 차분 = 50.8023\n",
      "183회째 : theta0 = 418.518, theta1 = 91.178, 차분 = 48.7905\n",
      "184회째 : theta0 = 418.731, theta1 = 91.224, 차분 = 46.8584\n",
      "185회째 : theta0 = 418.939, theta1 = 91.269, 차분 = 45.0028\n",
      "186회째 : theta0 = 419.143, theta1 = 91.313, 차분 = 43.2207\n",
      "187회째 : theta0 = 419.344, theta1 = 91.356, 차분 = 41.5092\n",
      "188회째 : theta0 = 419.540, theta1 = 91.399, 차분 = 39.8654\n",
      "189회째 : theta0 = 419.732, theta1 = 91.441, 차분 = 38.2867\n",
      "190회째 : theta0 = 419.920, theta1 = 91.481, 차분 = 36.7706\n",
      "191회째 : theta0 = 420.105, theta1 = 91.521, 차분 = 35.3145\n",
      "192회째 : theta0 = 420.286, theta1 = 91.560, 차분 = 33.9160\n",
      "193회째 : theta0 = 420.463, theta1 = 91.599, 차분 = 32.5729\n",
      "194회째 : theta0 = 420.637, theta1 = 91.636, 차분 = 31.2830\n",
      "195회째 : theta0 = 420.807, theta1 = 91.673, 차분 = 30.0442\n",
      "196회째 : theta0 = 420.974, theta1 = 91.709, 차분 = 28.8545\n",
      "197회째 : theta0 = 421.137, theta1 = 91.745, 차분 = 27.7118\n",
      "198회째 : theta0 = 421.298, theta1 = 91.779, 차분 = 26.6145\n",
      "199회째 : theta0 = 421.455, theta1 = 91.813, 차분 = 25.5605\n",
      "200회째 : theta0 = 421.609, theta1 = 91.847, 차분 = 24.5483\n",
      "201회째 : theta0 = 421.759, theta1 = 91.879, 차분 = 23.5762\n",
      "202회째 : theta0 = 421.907, theta1 = 91.911, 차분 = 22.6426\n",
      "203회째 : theta0 = 422.052, theta1 = 91.943, 차분 = 21.7459\n",
      "204회째 : theta0 = 422.194, theta1 = 91.973, 차분 = 20.8848\n",
      "205회째 : theta0 = 422.333, theta1 = 92.004, 차분 = 20.0578\n",
      "206회째 : theta0 = 422.470, theta1 = 92.033, 차분 = 19.2635\n",
      "207회째 : theta0 = 422.603, theta1 = 92.062, 차분 = 18.5006\n",
      "208회째 : theta0 = 422.734, theta1 = 92.090, 차분 = 17.7680\n",
      "209회째 : theta0 = 422.862, theta1 = 92.118, 차분 = 17.0644\n",
      "210회째 : theta0 = 422.988, theta1 = 92.145, 차분 = 16.3887\n",
      "211회째 : theta0 = 423.111, theta1 = 92.172, 차분 = 15.7397\n",
      "212회째 : theta0 = 423.232, theta1 = 92.198, 차분 = 15.1164\n",
      "213회째 : theta0 = 423.351, theta1 = 92.224, 차분 = 14.5178\n",
      "214회째 : theta0 = 423.467, theta1 = 92.249, 차분 = 13.9429\n",
      "215회째 : theta0 = 423.580, theta1 = 92.273, 차분 = 13.3907\n",
      "216회째 : theta0 = 423.692, theta1 = 92.297, 차분 = 12.8605\n",
      "217회째 : theta0 = 423.801, theta1 = 92.321, 차분 = 12.3512\n",
      "218회째 : theta0 = 423.908, theta1 = 92.344, 차분 = 11.8621\n",
      "219회째 : theta0 = 424.013, theta1 = 92.367, 차분 = 11.3923\n",
      "220회째 : theta0 = 424.115, theta1 = 92.389, 차분 = 10.9412\n",
      "221회째 : theta0 = 424.216, theta1 = 92.411, 차분 = 10.5079\n",
      "222회째 : theta0 = 424.315, theta1 = 92.432, 차분 = 10.0918\n",
      "223회째 : theta0 = 424.411, theta1 = 92.453, 차분 = 9.6922\n",
      "224회째 : theta0 = 424.506, theta1 = 92.474, 차분 = 9.3084\n",
      "225회째 : theta0 = 424.599, theta1 = 92.494, 차분 = 8.9398\n",
      "226회째 : theta0 = 424.690, theta1 = 92.514, 차분 = 8.5857\n",
      "227회째 : theta0 = 424.779, theta1 = 92.533, 차분 = 8.2457\n",
      "228회째 : theta0 = 424.867, theta1 = 92.552, 차분 = 7.9192\n",
      "229회째 : theta0 = 424.952, theta1 = 92.570, 차분 = 7.6056\n",
      "230회째 : theta0 = 425.036, theta1 = 92.588, 차분 = 7.3044\n",
      "231회째 : theta0 = 425.119, theta1 = 92.606, 차분 = 7.0152\n",
      "232회째 : theta0 = 425.199, theta1 = 92.624, 차분 = 6.7374\n",
      "233회째 : theta0 = 425.278, theta1 = 92.641, 차분 = 6.4706\n",
      "234회째 : theta0 = 425.356, theta1 = 92.658, 차분 = 6.2143\n",
      "235회째 : theta0 = 425.432, theta1 = 92.674, 차분 = 5.9683\n",
      "236회째 : theta0 = 425.506, theta1 = 92.690, 차분 = 5.7319\n",
      "237회째 : theta0 = 425.579, theta1 = 92.706, 차분 = 5.5049\n",
      "238회째 : theta0 = 425.650, theta1 = 92.721, 차분 = 5.2869\n",
      "239회째 : theta0 = 425.720, theta1 = 92.737, 차분 = 5.0776\n",
      "240회째 : theta0 = 425.789, theta1 = 92.751, 차분 = 4.8765\n",
      "241회째 : theta0 = 425.856, theta1 = 92.766, 차분 = 4.6834\n",
      "242회째 : theta0 = 425.922, theta1 = 92.780, 차분 = 4.4979\n",
      "243회째 : theta0 = 425.986, theta1 = 92.794, 차분 = 4.3198\n",
      "244회째 : theta0 = 426.050, theta1 = 92.808, 차분 = 4.1487\n",
      "245회째 : theta0 = 426.112, theta1 = 92.821, 차분 = 3.9845\n",
      "246회째 : theta0 = 426.173, theta1 = 92.834, 차분 = 3.8267\n",
      "247회째 : theta0 = 426.232, theta1 = 92.847, 차분 = 3.6751\n",
      "248회째 : theta0 = 426.290, theta1 = 92.860, 차분 = 3.5296\n",
      "249회째 : theta0 = 426.348, theta1 = 92.872, 차분 = 3.3898\n",
      "250회째 : theta0 = 426.404, theta1 = 92.884, 차분 = 3.2556\n",
      "251회째 : theta0 = 426.459, theta1 = 92.896, 차분 = 3.1267\n",
      "252회째 : theta0 = 426.512, theta1 = 92.908, 차분 = 3.0029\n",
      "253회째 : theta0 = 426.565, theta1 = 92.919, 차분 = 2.8839\n",
      "254회째 : theta0 = 426.617, theta1 = 92.931, 차분 = 2.7697\n",
      "255회째 : theta0 = 426.668, theta1 = 92.942, 차분 = 2.6601\n",
      "256회째 : theta0 = 426.717, theta1 = 92.952, 차분 = 2.5547\n",
      "257회째 : theta0 = 426.766, theta1 = 92.963, 차분 = 2.4535\n",
      "258회째 : theta0 = 426.814, theta1 = 92.973, 차분 = 2.3564\n",
      "259회째 : theta0 = 426.860, theta1 = 92.983, 차분 = 2.2631\n",
      "260회째 : theta0 = 426.906, theta1 = 92.993, 차분 = 2.1735\n",
      "261회째 : theta0 = 426.951, theta1 = 93.003, 차분 = 2.0874\n",
      "262회째 : theta0 = 426.995, theta1 = 93.012, 차분 = 2.0047\n",
      "263회째 : theta0 = 427.038, theta1 = 93.022, 차분 = 1.9253\n",
      "264회째 : theta0 = 427.080, theta1 = 93.031, 차분 = 1.8491\n",
      "265회째 : theta0 = 427.122, theta1 = 93.040, 차분 = 1.7759\n",
      "266회째 : theta0 = 427.162, theta1 = 93.049, 차분 = 1.7055\n",
      "267회째 : theta0 = 427.202, theta1 = 93.057, 차분 = 1.6380\n",
      "268회째 : theta0 = 427.241, theta1 = 93.066, 차분 = 1.5731\n",
      "269회째 : theta0 = 427.279, theta1 = 93.074, 차분 = 1.5108\n",
      "270회째 : theta0 = 427.317, theta1 = 93.082, 차분 = 1.4510\n",
      "271회째 : theta0 = 427.353, theta1 = 93.090, 차분 = 1.3936\n",
      "272회째 : theta0 = 427.389, theta1 = 93.098, 차분 = 1.3384\n",
      "273회째 : theta0 = 427.424, theta1 = 93.105, 차분 = 1.2854\n",
      "274회째 : theta0 = 427.459, theta1 = 93.113, 차분 = 1.2345\n",
      "275회째 : theta0 = 427.493, theta1 = 93.120, 차분 = 1.1856\n",
      "276회째 : theta0 = 427.526, theta1 = 93.127, 차분 = 1.1386\n",
      "277회째 : theta0 = 427.558, theta1 = 93.134, 차분 = 1.0935\n",
      "278회째 : theta0 = 427.590, theta1 = 93.141, 차분 = 1.0502\n",
      "279회째 : theta0 = 427.621, theta1 = 93.148, 차분 = 1.0087\n",
      "280회째 : theta0 = 427.652, theta1 = 93.155, 차분 = 0.9687\n",
      "281회째 : theta0 = 427.682, theta1 = 93.161, 차분 = 0.9303\n",
      "282회째 : theta0 = 427.711, theta1 = 93.167, 차분 = 0.8935\n",
      "283회째 : theta0 = 427.740, theta1 = 93.174, 차분 = 0.8581\n",
      "284회째 : theta0 = 427.768, theta1 = 93.180, 차분 = 0.8241\n",
      "285회째 : theta0 = 427.796, theta1 = 93.186, 차분 = 0.7915\n",
      "286회째 : theta0 = 427.823, theta1 = 93.192, 차분 = 0.7602\n",
      "287회째 : theta0 = 427.849, theta1 = 93.197, 차분 = 0.7301\n",
      "288회째 : theta0 = 427.875, theta1 = 93.203, 차분 = 0.7012\n",
      "289회째 : theta0 = 427.901, theta1 = 93.208, 차분 = 0.6734\n",
      "290회째 : theta0 = 427.926, theta1 = 93.214, 차분 = 0.6467\n",
      "291회째 : theta0 = 427.950, theta1 = 93.219, 차분 = 0.6211\n",
      "292회째 : theta0 = 427.974, theta1 = 93.224, 차분 = 0.5965\n",
      "293회째 : theta0 = 427.998, theta1 = 93.229, 차분 = 0.5729\n",
      "294회째 : theta0 = 428.021, theta1 = 93.234, 차분 = 0.5502\n",
      "295회째 : theta0 = 428.044, theta1 = 93.239, 차분 = 0.5284\n",
      "296회째 : theta0 = 428.066, theta1 = 93.244, 차분 = 0.5075\n",
      "297회째 : theta0 = 428.087, theta1 = 93.249, 차분 = 0.4874\n",
      "298회째 : theta0 = 428.109, theta1 = 93.253, 차분 = 0.4681\n",
      "299회째 : theta0 = 428.129, theta1 = 93.258, 차분 = 0.4496\n",
      "300회째 : theta0 = 428.150, theta1 = 93.262, 차분 = 0.4318\n",
      "301회째 : theta0 = 428.170, theta1 = 93.267, 차분 = 0.4147\n",
      "302회째 : theta0 = 428.189, theta1 = 93.271, 차분 = 0.3982\n",
      "303회째 : theta0 = 428.209, theta1 = 93.275, 차분 = 0.3825\n",
      "304회째 : theta0 = 428.228, theta1 = 93.279, 차분 = 0.3673\n",
      "305회째 : theta0 = 428.246, theta1 = 93.283, 차분 = 0.3528\n",
      "306회째 : theta0 = 428.264, theta1 = 93.287, 차분 = 0.3388\n",
      "307회째 : theta0 = 428.282, theta1 = 93.291, 차분 = 0.3254\n",
      "308회째 : theta0 = 428.299, theta1 = 93.295, 차분 = 0.3125\n",
      "309회째 : theta0 = 428.316, theta1 = 93.298, 차분 = 0.3001\n",
      "310회째 : theta0 = 428.333, theta1 = 93.302, 차분 = 0.2882\n",
      "311회째 : theta0 = 428.349, theta1 = 93.305, 차분 = 0.2768\n",
      "312회째 : theta0 = 428.365, theta1 = 93.309, 차분 = 0.2659\n",
      "313회째 : theta0 = 428.381, theta1 = 93.312, 차분 = 0.2553\n",
      "314회째 : theta0 = 428.396, theta1 = 93.316, 차분 = 0.2452\n",
      "315회째 : theta0 = 428.411, theta1 = 93.319, 차분 = 0.2355\n",
      "316회째 : theta0 = 428.426, theta1 = 93.322, 차분 = 0.2262\n",
      "317회째 : theta0 = 428.441, theta1 = 93.325, 차분 = 0.2172\n",
      "318회째 : theta0 = 428.455, theta1 = 93.328, 차분 = 0.2086\n",
      "319회째 : theta0 = 428.469, theta1 = 93.331, 차분 = 0.2004\n",
      "320회째 : theta0 = 428.482, theta1 = 93.334, 차분 = 0.1924\n",
      "321회째 : theta0 = 428.496, theta1 = 93.337, 차분 = 0.1848\n",
      "322회째 : theta0 = 428.509, theta1 = 93.340, 차분 = 0.1775\n",
      "323회째 : theta0 = 428.522, theta1 = 93.343, 차분 = 0.1705\n",
      "324회째 : theta0 = 428.534, theta1 = 93.345, 차분 = 0.1637\n",
      "325회째 : theta0 = 428.546, theta1 = 93.348, 차분 = 0.1572\n",
      "326회째 : theta0 = 428.559, theta1 = 93.351, 차분 = 0.1510\n",
      "327회째 : theta0 = 428.570, theta1 = 93.353, 차분 = 0.1450\n",
      "328회째 : theta0 = 428.582, theta1 = 93.356, 차분 = 0.1393\n",
      "329회째 : theta0 = 428.593, theta1 = 93.358, 차분 = 0.1338\n",
      "330회째 : theta0 = 428.604, theta1 = 93.361, 차분 = 0.1285\n",
      "331회째 : theta0 = 428.615, theta1 = 93.363, 차분 = 0.1234\n",
      "332회째 : theta0 = 428.626, theta1 = 93.365, 차분 = 0.1185\n",
      "333회째 : theta0 = 428.637, theta1 = 93.368, 차분 = 0.1138\n",
      "334회째 : theta0 = 428.647, theta1 = 93.370, 차분 = 0.1093\n",
      "335회째 : theta0 = 428.657, theta1 = 93.372, 차분 = 0.1050\n",
      "336회째 : theta0 = 428.667, theta1 = 93.374, 차분 = 0.1008\n",
      "337회째 : theta0 = 428.676, theta1 = 93.376, 차분 = 0.0968\n",
      "338회째 : theta0 = 428.686, theta1 = 93.378, 차분 = 0.0930\n",
      "339회째 : theta0 = 428.695, theta1 = 93.380, 차분 = 0.0893\n",
      "340회째 : theta0 = 428.704, theta1 = 93.382, 차분 = 0.0858\n",
      "341회째 : theta0 = 428.713, theta1 = 93.384, 차분 = 0.0824\n",
      "342회째 : theta0 = 428.722, theta1 = 93.386, 차분 = 0.0791\n",
      "343회째 : theta0 = 428.730, theta1 = 93.388, 차분 = 0.0760\n",
      "344회째 : theta0 = 428.739, theta1 = 93.390, 차분 = 0.0730\n",
      "345회째 : theta0 = 428.747, theta1 = 93.392, 차분 = 0.0701\n",
      "346회째 : theta0 = 428.755, theta1 = 93.393, 차분 = 0.0673\n",
      "347회째 : theta0 = 428.763, theta1 = 93.395, 차분 = 0.0646\n",
      "348회째 : theta0 = 428.771, theta1 = 93.397, 차분 = 0.0621\n",
      "349회째 : theta0 = 428.778, theta1 = 93.398, 차분 = 0.0596\n",
      "350회째 : theta0 = 428.786, theta1 = 93.400, 차분 = 0.0573\n",
      "351회째 : theta0 = 428.793, theta1 = 93.402, 차분 = 0.0550\n",
      "352회째 : theta0 = 428.800, theta1 = 93.403, 차분 = 0.0528\n",
      "353회째 : theta0 = 428.807, theta1 = 93.405, 차분 = 0.0507\n",
      "354회째 : theta0 = 428.814, theta1 = 93.406, 차분 = 0.0487\n",
      "355회째 : theta0 = 428.821, theta1 = 93.408, 차분 = 0.0468\n",
      "356회째 : theta0 = 428.827, theta1 = 93.409, 차분 = 0.0449\n",
      "357회째 : theta0 = 428.834, theta1 = 93.410, 차분 = 0.0432\n",
      "358회째 : theta0 = 428.840, theta1 = 93.412, 차분 = 0.0414\n",
      "359회째 : theta0 = 428.846, theta1 = 93.413, 차분 = 0.0398\n",
      "360회째 : theta0 = 428.852, theta1 = 93.414, 차분 = 0.0382\n",
      "361회째 : theta0 = 428.858, theta1 = 93.416, 차분 = 0.0367\n",
      "362회째 : theta0 = 428.864, theta1 = 93.417, 차분 = 0.0353\n",
      "363회째 : theta0 = 428.870, theta1 = 93.418, 차분 = 0.0339\n",
      "364회째 : theta0 = 428.876, theta1 = 93.419, 차분 = 0.0325\n",
      "365회째 : theta0 = 428.881, theta1 = 93.421, 차분 = 0.0312\n",
      "366회째 : theta0 = 428.886, theta1 = 93.422, 차분 = 0.0300\n",
      "367회째 : theta0 = 428.892, theta1 = 93.423, 차분 = 0.0288\n",
      "368회째 : theta0 = 428.897, theta1 = 93.424, 차분 = 0.0277\n",
      "369회째 : theta0 = 428.902, theta1 = 93.425, 차분 = 0.0266\n",
      "370회째 : theta0 = 428.907, theta1 = 93.426, 차분 = 0.0255\n",
      "371회째 : theta0 = 428.912, theta1 = 93.427, 차분 = 0.0245\n",
      "372회째 : theta0 = 428.916, theta1 = 93.428, 차분 = 0.0235\n",
      "373회째 : theta0 = 428.921, theta1 = 93.429, 차분 = 0.0226\n",
      "374회째 : theta0 = 428.926, theta1 = 93.430, 차분 = 0.0217\n",
      "375회째 : theta0 = 428.930, theta1 = 93.431, 차분 = 0.0209\n",
      "376회째 : theta0 = 428.935, theta1 = 93.432, 차분 = 0.0200\n",
      "377회째 : theta0 = 428.939, theta1 = 93.433, 차분 = 0.0192\n",
      "378회째 : theta0 = 428.943, theta1 = 93.434, 차분 = 0.0185\n",
      "379회째 : theta0 = 428.947, theta1 = 93.435, 차분 = 0.0177\n",
      "380회째 : theta0 = 428.951, theta1 = 93.436, 차분 = 0.0170\n",
      "381회째 : theta0 = 428.955, theta1 = 93.437, 차분 = 0.0164\n",
      "382회째 : theta0 = 428.959, theta1 = 93.437, 차분 = 0.0157\n",
      "383회째 : theta0 = 428.963, theta1 = 93.438, 차분 = 0.0151\n",
      "384회째 : theta0 = 428.967, theta1 = 93.439, 차분 = 0.0145\n",
      "385회째 : theta0 = 428.970, theta1 = 93.440, 차분 = 0.0139\n",
      "386회째 : theta0 = 428.974, theta1 = 93.441, 차분 = 0.0134\n",
      "387회째 : theta0 = 428.978, theta1 = 93.441, 차분 = 0.0128\n",
      "388회째 : theta0 = 428.981, theta1 = 93.442, 차분 = 0.0123\n",
      "389회째 : theta0 = 428.984, theta1 = 93.443, 차분 = 0.0118\n",
      "390회째 : theta0 = 428.988, theta1 = 93.444, 차분 = 0.0114\n",
      "391회째 : theta0 = 428.991, theta1 = 93.444, 차분 = 0.0109\n",
      "392회째 : theta0 = 428.994, theta1 = 93.445, 차분 = 0.0105\n",
      "393회째 : theta0 = 428.997, theta1 = 93.446, 차분 = 0.0101\n",
      "394회째 : theta0 = 429.000, theta1 = 93.446, 차분 = 0.0097\n"
     ]
    }
   ],
   "source": [
    "# 학습률\n",
    "ETA = 1e-3\n",
    "\n",
    "# 오차의 차분\n",
    "diff = 1\n",
    "\n",
    "# 갱신 횟수\n",
    "count = 0\n",
    "\n",
    "# 학습을 반복한다\n",
    "error = E(train_z, train_y)  # 목적함수에 대입\n",
    "while diff > 1e-2:\n",
    "    # 갱신 결과를 임시변수에 저장한다\n",
    "    tmp0 = theta0 - ETA * np.sum((f(train_z) - train_y))\n",
    "    tmp1 = theta1 - ETA * np.sum((f(train_z) - train_y) * train_z)\n",
    "    \n",
    "    # 매개변수를 갱신한다 (두 매개변수의 갱신은 동시에 이뤄져야 함)\n",
    "    theta0 = tmp0\n",
    "    theta1 = tmp1\n",
    "    \n",
    "    # 이전 회의 오차와의 차분을 계산한다\n",
    "    current_error = E(train_z, train_y)\n",
    "    diff = error - current_error\n",
    "    error = current_error\n",
    "    \n",
    "    # 로그를 출력한다\n",
    "    count+=1\n",
    "    log = '{}회째 : theta0 = {:.3f}, theta1 = {:.3f}, 차분 = {:.4f}'\n",
    "    print(log.format(count, theta0, theta1, diff))"
   ]
  },
  {
   "cell_type": "code",
   "execution_count": 6,
   "metadata": {},
   "outputs": [
    {
     "data": {
      "image/png": "[encoded data removed]",
      "text/plain": [
       "<Figure size 432x288 with 1 Axes>"
      ]
     },
     "metadata": {
      "needs_background": "light"
     },
     "output_type": "display_data"
    }
   ],
   "source": [
    "# 학습 데이터와 f(x) 그래프로 나타냄\n",
    "\n",
    "x = np.linspace(-3, 3, 100)\n",
    "\n",
    "plt.plot(train_z, train_y, 'o')\n",
    "plt.plot(x, f(x))\n",
    "plt.show()"
   ]
  },
  {
   "cell_type": "code",
   "execution_count": null,
   "metadata": {},
   "outputs": [],
   "source": []
  },
  {
   "cell_type": "markdown",
   "metadata": {},
   "source": [
    "# 3. 검증"
   ]
  },
  {
   "cell_type": "code",
   "execution_count": 7,
   "metadata": {},
   "outputs": [
    {
     "data": {
      "text/plain": [
       "370.96717038694874"
      ]
     },
     "execution_count": 7,
     "metadata": {},
     "output_type": "execute_result"
    }
   ],
   "source": [
    "f(standardize(100))"
   ]
  },
  {
   "cell_type": "code",
   "execution_count": 9,
   "metadata": {},
   "outputs": [
    {
     "data": {
      "text/plain": [
       "510.4698137085699"
      ]
     },
     "execution_count": 9,
     "metadata": {},
     "output_type": "execute_result"
    }
   ],
   "source": [
    "f(standardize(200))"
   ]
  },
  {
   "cell_type": "code",
   "execution_count": 10,
   "metadata": {},
   "outputs": [
    {
     "data": {
      "text/plain": [
       "649.9724570301911"
      ]
     },
     "execution_count": 10,
     "metadata": {},
     "output_type": "execute_result"
    }
   ],
   "source": [
    "f(standardize(300))"
   ]
  },
  {
   "cell_type": "code",
   "execution_count": null,
   "metadata": {},
   "outputs": [],
   "source": []
  },
  {
   "cell_type": "markdown",
   "metadata": {},
   "source": [
    "# 4. 다항식 회귀를 구현한다"
   ]
  },
  {
   "cell_type": "code",
   "execution_count": 11,
   "metadata": {},
   "outputs": [],
   "source": [
    "# 매개변수를 초기화한다\n",
    "theta = np.random.rand(3)\n",
    "\n",
    "# 학습 데이터를 행렬의 형태로 만든다\n",
    "# np.vstack은 행을 추가하는 함수. 해당 행렬에 .T로 transpose 수행\n",
    "def to_matrix(x):\n",
    "    return np.vstack([np.ones(x.shape[0]), x, x**2]).T\n",
    "\n",
    "X = to_matrix(train_z)\n",
    "\n",
    "# 예측함수\n",
    "def f(x):\n",
    "    return np.dot(x, theta)"
   ]
  },
  {
   "cell_type": "code",
   "execution_count": 12,
   "metadata": {},
   "outputs": [],
   "source": [
    "# 오차의 차분\n",
    "diff = 1\n",
    "\n",
    "# 학습을 반복한다\n",
    "error = E(X, train_y)\n",
    "while diff > 1e-2:\n",
    "    # 매개변수를 갱신한다\n",
    "    theta = theta - ETA * np.dot(f(X) - train_y, X)\n",
    "    \n",
    "    # 이전의 오차와의 차분 계산\n",
    "    current_error = E(X, train_y)\n",
    "    diff = error - current_error\n",
    "    error = current_error"
   ]
  },
  {
   "cell_type": "code",
   "execution_count": 13,
   "metadata": {},
   "outputs": [
    {
     "data": {
      "image/png": "[encoded data removed]",
      "text/plain": [
       "<Figure size 432x288 with 1 Axes>"
      ]
     },
     "metadata": {
      "needs_background": "light"
     },
     "output_type": "display_data"
    }
   ],
   "source": [
    "x = np.linspace(-3, 3, 100)\n",
    "\n",
    "plt.plot(train_z, train_y, 'o')\n",
    "plt.plot(x, f(to_matrix(x)))\n",
    "plt.show()"
   ]
  },
  {
   "cell_type": "code",
   "execution_count": 14,
   "metadata": {},
   "outputs": [
    {
     "data": {
      "image/png": "[encoded data removed]",
      "text/plain": [
       "<Figure size 432x288 with 1 Axes>"
      ]
     },
     "metadata": {
      "needs_background": "light"
     },
     "output_type": "display_data"
    }
   ],
   "source": [
    "# 평균제곱오차\n",
    "def MSE(x, y):\n",
    "    return (1/x.shape[0]) * np.sum((y-f(x))**2)\n",
    "\n",
    "# 매개변수를 무작위로 초기화한다\n",
    "theta = np.random.rand(3)\n",
    "\n",
    "# 평균제곱오차의 히스토리\n",
    "errors = []\n",
    "\n",
    "# 오차의 차분\n",
    "diff = 1\n",
    "\n",
    "# 학습을 반복한다\n",
    "errors.append(MSE(X, train_y))\n",
    "\n",
    "while diff > 1e-2:\n",
    "    theta = theta - ETA * np.dot(f(X) - train_y, X)\n",
    "    errors.append(MSE(X, train_y))\n",
    "    diff = errors[-2] - errors[-1]\n",
    "    \n",
    "# 오차를 그래프로 나타낸다\n",
    "x = np.arange(len(errors))\n",
    "\n",
    "plt.plot(x, errors)\n",
    "plt.show()"
   ]
  },
  {
   "cell_type": "code",
   "execution_count": null,
   "metadata": {},
   "outputs": [],
   "source": []
  },
  {
   "cell_type": "markdown",
   "metadata": {},
   "source": [
    "# 5. 확률 경사하강법을 구현한다"
   ]
  },
  {
   "cell_type": "code",
   "execution_count": 15,
   "metadata": {},
   "outputs": [],
   "source": [
    "# 매개변수를 무작위로 초기화\n",
    "theta = np.random.rand(3)\n",
    "\n",
    "# 평균제곱오차의 히스토리\n",
    "errors = []\n",
    "\n",
    "# 오차의 차분\n",
    "diff = 1\n",
    "\n",
    "# 학습을 반복한다\n",
    "errors.append(MSE(X, train_y))\n",
    "while diff > 1e-2:\n",
    "    # 학습 데이터를 다시 나열하기 위해 무작위 순열을 마련한다\n",
    "    p = np.random.permutation(X.shape[0])\n",
    "    # 학습 데이터를 무작위로 꺼내어 확률 경사하강법으로 매개변수를 갱신한다.\n",
    "    for x, y in zip(X[p, :], train_y[p]):\n",
    "        theta = theta - ETA * (f(x) - y) * x\n",
    "    # 이전에 꼐산된 오차와의 차분을 계산한다\n",
    "    errors.append(MSE(X, train_y))\n",
    "    diff = errors[-2] - errors[-1]"
   ]
  },
  {
   "cell_type": "code",
   "execution_count": 16,
   "metadata": {},
   "outputs": [
    {
     "data": {
      "image/png": "[encoded data removed]",
      "text/plain": [
       "<Figure size 432x288 with 1 Axes>"
      ]
     },
     "metadata": {
      "needs_background": "light"
     },
     "output_type": "display_data"
    }
   ],
   "source": [
    "x = np.linspace(-3, 3, 100)\n",
    "\n",
    "plt.plot(train_z, train_y, 'o')\n",
    "plt.plot(x, f(to_matrix(x)))\n",
    "plt.show()"
   ]
  }
 ],
 "metadata": {
  "kernelspec": {
   "display_name": "Python 3",
   "language": "python",
   "name": "python3"
  },
  "language_info": {
   "codemirror_mode": {
    "name": "ipython",
    "version": 3
   },
   "file_extension": ".py",
   "mimetype": "text/x-python",
   "name": "python",
   "nbconvert_exporter": "python",
   "pygments_lexer": "ipython3",
   "version": "3.8.3"
  }
 },
 "nbformat": 4,
 "nbformat_minor": 4
}
