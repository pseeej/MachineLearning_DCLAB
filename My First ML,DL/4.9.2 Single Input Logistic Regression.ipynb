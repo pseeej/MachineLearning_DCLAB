{
  "nbformat": 4,
  "nbformat_minor": 0,
  "metadata": {
    "colab": {
      "name": "My First ML,DL/4.9.2 Single Input Logistic Regression",
      "provenance": [],
      "authorship_tag": "ABX9TyOOF3F/vYZ0ogfLnbLfTppV",
      "include_colab_link": true
    },
    "kernelspec": {
      "name": "python3",
      "display_name": "Python 3"
    },
    "language_info": {
      "name": "python"
    }
  },
  "cells": [
    {
      "cell_type": "markdown",
      "metadata": {
        "id": "view-in-github",
        "colab_type": "text"
      },
      "source": [
        "<a href=\"https://colab.research.google.com/github/pseeej/MachineLearning_DCLAB/blob/master/My%20First%20ML%2CDL/4.9.2%20Single%20Input%20Logistic%20Regression.ipynb\" target=\"_parent\"><img src=\"https://colab.research.google.com/assets/colab-badge.svg\" alt=\"Open In Colab\"/></a>"
      ]
    },
    {
      "cell_type": "code",
      "metadata": {
        "id": "iEAzp5q42FJk"
      },
      "source": [
        "from keras.models import Sequential\n",
        "from keras.layers import Dense, Activation\n",
        "import numpy as np"
      ],
      "execution_count": 1,
      "outputs": []
    },
    {
      "cell_type": "code",
      "metadata": {
        "id": "Ihttt-XO2UKB"
      },
      "source": [
        "# 로지스틱 회귀 모델 만들기\n",
        "\n",
        "model = Sequential()\n",
        "model.add(Dense(input_dim=1, units = 1))\n",
        "model.add(Activation('sigmoid'))\n",
        "model.compile(loss='binary_crossentropy', optimizer='sgd', metrics=['binary_accuracy'])\n",
        "\n",
        "# 데이터 생성\n",
        "\n",
        "X = np.array([-2, -1.5, -1, 1.25, 1.62, 2]) \n",
        "Y = np.array([0, 0, 0, 1, 1, 1])"
      ],
      "execution_count": 2,
      "outputs": []
    },
    {
      "cell_type": "code",
      "metadata": {
        "colab": {
          "base_uri": "https://localhost:8080/"
        },
        "id": "Mz-3Rdkv2ZZo",
        "outputId": "7fd3c95d-1d57-4b9f-cea5-ce2f9ed1bbef"
      },
      "source": [
        "# 모델 학습\n",
        "\n",
        "model.fit(X, Y, epochs=300, verbose=0)"
      ],
      "execution_count": 3,
      "outputs": [
        {
          "output_type": "execute_result",
          "data": {
            "text/plain": [
              "<tensorflow.python.keras.callbacks.History at 0x7ffb849769d0>"
            ]
          },
          "metadata": {
            "tags": []
          },
          "execution_count": 3
        }
      ]
    },
    {
      "cell_type": "code",
      "metadata": {
        "colab": {
          "base_uri": "https://localhost:8080/"
        },
        "id": "yTzxpoAK2da7",
        "outputId": "c829ecd7-4f35-47f4-869a-fcdf9dc289a4"
      },
      "source": [
        "# 학습 데이터에 따른 실제 모델의 출력값\n",
        "# -2, -1.5, -1은 0.5보다 작고, 나머지 값은 0.5보다 크게 나옴.\n",
        "\n",
        "model.predict([-2, -1.5, -1, 1.25, 1.62, 2])"
      ],
      "execution_count": 5,
      "outputs": [
        {
          "output_type": "execute_result",
          "data": {
            "text/plain": [
              "array([[0.12617561],\n",
              "       [0.18939862],\n",
              "       [0.2743544 ],\n",
              "       [0.7672998 ],\n",
              "       [0.824809  ],\n",
              "       [0.87158537]], dtype=float32)"
            ]
          },
          "metadata": {
            "tags": []
          },
          "execution_count": 5
        }
      ]
    },
    {
      "cell_type": "code",
      "metadata": {
        "colab": {
          "base_uri": "https://localhost:8080/"
        },
        "id": "Rx-8ITSK2oY3",
        "outputId": "af0d662c-cab9-4d28-e141-a378ac7977a3"
      },
      "source": [
        "# sigmoid 특성 상 왼쪽 극한의 값은 0으로 수렴, 오른쪽 극한의 값은 1로 수렴\n",
        "\n",
        "model.predict([-1000, 1000])"
      ],
      "execution_count": 6,
      "outputs": [
        {
          "output_type": "execute_result",
          "data": {
            "text/plain": [
              "array([[0.],\n",
              "       [1.]], dtype=float32)"
            ]
          },
          "metadata": {
            "tags": []
          },
          "execution_count": 6
        }
      ]
    },
    {
      "cell_type": "code",
      "metadata": {
        "colab": {
          "base_uri": "https://localhost:8080/"
        },
        "id": "7IVxQJZl2unD",
        "outputId": "b7270406-8009-4bfd-d6f6-16acd148970d"
      },
      "source": [
        "# 모델의 구성 확인\n",
        "\n",
        "model.summary()\n",
        "\n",
        "# dense1이 선형 회귀 layer. parameter로 w와 b 존재.\n",
        "# 이 출력값이 activation_1의 입력으로 들어가게 됨."
      ],
      "execution_count": 7,
      "outputs": [
        {
          "output_type": "stream",
          "text": [
            "Model: \"sequential\"\n",
            "_________________________________________________________________\n",
            "Layer (type)                 Output Shape              Param #   \n",
            "=================================================================\n",
            "dense (Dense)                (None, 1)                 2         \n",
            "_________________________________________________________________\n",
            "activation (Activation)      (None, 1)                 0         \n",
            "=================================================================\n",
            "Total params: 2\n",
            "Trainable params: 2\n",
            "Non-trainable params: 0\n",
            "_________________________________________________________________\n"
          ],
          "name": "stdout"
        }
      ]
    },
    {
      "cell_type": "code",
      "metadata": {
        "colab": {
          "base_uri": "https://localhost:8080/"
        },
        "id": "0njJErH329Zx",
        "outputId": "87daedc6-9b91-4270-b3b7-16e5a32c6642"
      },
      "source": [
        "# 첫 번쨰 layer에 존재하는 w와 b 확인\n",
        "\n",
        "model.layers[0].weights"
      ],
      "execution_count": 8,
      "outputs": [
        {
          "output_type": "execute_result",
          "data": {
            "text/plain": [
              "[<tf.Variable 'dense/kernel:0' shape=(1, 1) dtype=float32, numpy=array([[0.9625634]], dtype=float32)>,\n",
              " <tf.Variable 'dense/bias:0' shape=(1,) dtype=float32, numpy=array([-0.01007765], dtype=float32)>]"
            ]
          },
          "metadata": {
            "tags": []
          },
          "execution_count": 8
        }
      ]
    },
    {
      "cell_type": "code",
      "metadata": {
        "colab": {
          "base_uri": "https://localhost:8080/"
        },
        "id": "NUqfxzAT3CUH",
        "outputId": "c8fa4047-a0ee-4c96-a6bc-242b797f7820"
      },
      "source": [
        "# 학습을 통해 얻어진 최적의 w와 b 확인\n",
        "\n",
        "model.layers[0].get_weights()"
      ],
      "execution_count": 9,
      "outputs": [
        {
          "output_type": "execute_result",
          "data": {
            "text/plain": [
              "[array([[0.9625634]], dtype=float32), array([-0.01007765], dtype=float32)]"
            ]
          },
          "metadata": {
            "tags": []
          },
          "execution_count": 9
        }
      ]
    }
  ]
}