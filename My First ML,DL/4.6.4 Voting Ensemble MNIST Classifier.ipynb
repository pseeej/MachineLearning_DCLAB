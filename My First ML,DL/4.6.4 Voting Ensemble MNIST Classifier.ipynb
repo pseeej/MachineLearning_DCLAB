{
  "nbformat": 4,
  "nbformat_minor": 0,
  "metadata": {
    "colab": {
      "name": "My First ML,DL/4.6.4 Voting Ensemble MNIST Classifier",
      "provenance": [],
      "collapsed_sections": [],
      "authorship_tag": "ABX9TyOt7SNJNxF442hYtDsSnqkh",
      "include_colab_link": true
    },
    "kernelspec": {
      "name": "python3",
      "display_name": "Python 3"
    },
    "language_info": {
      "name": "python"
    }
  },
  "cells": [
    {
      "cell_type": "markdown",
      "metadata": {
        "id": "view-in-github",
        "colab_type": "text"
      },
      "source": [
        "<a href=\"https://colab.research.google.com/github/pseeej/MachineLearning_DCLAB/blob/master/My%20First%20ML%2CDL/4.6.4%20Voting%20Ensemble%20MNIST%20Classifier.ipynb\" target=\"_parent\"><img src=\"https://colab.research.google.com/assets/colab-badge.svg\" alt=\"Open In Colab\"/></a>"
      ]
    },
    {
      "cell_type": "code",
      "metadata": {
        "id": "JQomp6MhmzP3"
      },
      "source": [
        "from sklearn import datasets\n",
        "from sklearn import tree\n",
        "from sklearn.neighbors import KNeighborsClassifier\n",
        "from sklearn.svm import SVC\n",
        "from sklearn.ensemble import VotingClassifier\n",
        "from sklearn.model_selection import train_test_split\n",
        "from sklearn.metrics import accuracy_score"
      ],
      "execution_count": 3,
      "outputs": []
    },
    {
      "cell_type": "code",
      "metadata": {
        "id": "xHGCEjRpnMc5"
      },
      "source": [
        "mnist = datasets.load_digits()\n",
        "features, labels = mnist.data, mnist.target\n",
        "X_train, X_test, y_train, y_test = train_test_split(features, labels, test_size=0.2)"
      ],
      "execution_count": 6,
      "outputs": []
    },
    {
      "cell_type": "code",
      "metadata": {
        "colab": {
          "base_uri": "https://localhost:8080/"
        },
        "id": "iIINWloSnXMT",
        "outputId": "01b38617-492b-4b45-f815-495cfcf1cfa3"
      },
      "source": [
        "# 단일 모델의 정확도 측정\n",
        "\n",
        "# 불순도 계산 방법을 gini로. tree 최대 깊이 8, 최상의 분할 찾을 때 고려할 기능 수 32, estimator의 randomness 지정\n",
        "dtree = tree.DecisionTreeClassifier(criterion=\"gini\", max_depth=8, max_features=32, random_state=35)  \n",
        "dtree = dtree.fit(X_train, y_train)\n",
        "dtree_predicted = dtree.predict(X_test)\n",
        "\n",
        "knn = KNeighborsClassifier(n_neighbors=299).fit(X_train, y_train)\n",
        "knn_predicted = knn.predict(X_test)\n",
        "\n",
        "svm = SVC(C=0.1, gamma=0.003, probability=True, random_state=35).fit(X_train, y_train)\n",
        "svm_predicted = svm.predict(X_test)\n",
        "print(\"[accuracy]\")\n",
        "print(\"d-tree : \", accuracy_score(y_test, dtree_predicted))\n",
        "print(\"knn    : \", accuracy_score(y_test, knn_predicted))\n",
        "print(\"svm    : \", accuracy_score(y_test, svm_predicted))"
      ],
      "execution_count": 8,
      "outputs": [
        {
          "output_type": "stream",
          "text": [
            "[accuracy]\n",
            "d-tree :  0.8333333333333334\n",
            "knn    :  0.8638888888888889\n",
            "svm    :  0.925\n"
          ],
          "name": "stdout"
        }
      ]
    },
    {
      "cell_type": "code",
      "metadata": {
        "colab": {
          "base_uri": "https://localhost:8080/"
        },
        "id": "yY_ScM-1o1gl",
        "outputId": "5900ed96-92bf-4cce-a94e-804423f68f99"
      },
      "source": [
        "# 분류값별 확률 확인\n",
        "# 직접 소프트 보팅 구현 위해 predict_proba 함수 사용.\n",
        "\n",
        "svm_proba = svm.predict_proba(X_test)\n",
        "print(svm_proba[0:2])"
      ],
      "execution_count": 9,
      "outputs": [
        {
          "output_type": "stream",
          "text": [
            "[[1.11995827e-02 5.43532229e-02 6.40846247e-02 3.11595557e-01\n",
            "  2.15427078e-02 5.30584425e-02 1.18875270e-02 7.34116502e-02\n",
            "  3.35231733e-01 6.36349522e-02]\n",
            " [7.09622408e-04 1.27090611e-03 2.19874001e-03 1.58675564e-03\n",
            "  7.25202436e-04 9.73898267e-01 5.69631393e-04 1.48708658e-03\n",
            "  1.50582966e-02 2.49549171e-03]]\n"
          ],
          "name": "stdout"
        }
      ]
    },
    {
      "cell_type": "code",
      "metadata": {
        "colab": {
          "base_uri": "https://localhost:8080/"
        },
        "id": "T_jjWE4upK2Q",
        "outputId": "8cfe57d5-2b45-40fd-fc24-91d5dbd5579b"
      },
      "source": [
        "# 하드 보팅\n",
        "\n",
        "voting_clf = VotingClassifier(estimators=[('decision_tree', dtree), ('knn', knn), ('svm', svm)],\n",
        "                              weights=[1, 1, 1], voting='hard').fit(X_train, y_train)\n",
        "                \n",
        "hard_voting_predicted = voting_clf.predict(X_test)\n",
        "accuracy_score(y_test, hard_voting_predicted) # 정확도"
      ],
      "execution_count": 12,
      "outputs": [
        {
          "output_type": "execute_result",
          "data": {
            "text/plain": [
              "0.9194444444444444"
            ]
          },
          "metadata": {
            "tags": []
          },
          "execution_count": 12
        }
      ]
    },
    {
      "cell_type": "code",
      "metadata": {
        "colab": {
          "base_uri": "https://localhost:8080/"
        },
        "id": "c0kr3mjqpp1e",
        "outputId": "896a61fe-7b55-4f44-b2c2-6d62fdf2abb0"
      },
      "source": [
        "# 소프트 보팅\n",
        "\n",
        "voting_clf = VotingClassifier(estimators=[('decision_tree', dtree), ('knn', knn), ('svm', svm)],\n",
        "                              weights=[1, 1, 1], voting='soft').fit(X_train, y_train)\n",
        "\n",
        "soft_voting_predicted = voting_clf.predict(X_test)\n",
        "accuracy_score(y_test, soft_voting_predicted)"
      ],
      "execution_count": 14,
      "outputs": [
        {
          "output_type": "execute_result",
          "data": {
            "text/plain": [
              "0.8944444444444445"
            ]
          },
          "metadata": {
            "tags": []
          },
          "execution_count": 14
        }
      ]
    },
    {
      "cell_type": "code",
      "metadata": {
        "colab": {
          "base_uri": "https://localhost:8080/",
          "height": 441
        },
        "id": "g2Z4IW69qLCY",
        "outputId": "d89ab913-c5e3-44f0-8561-6faf7186d575"
      },
      "source": [
        "# 단일 모델과 앙상블 모델의 정확도 비교 시각화\n",
        "\n",
        "import matplotlib.pyplot as plt\n",
        "import numpy as np\n",
        "%matplotlib inline\n",
        "\n",
        "x = np.arange(5)\n",
        "plt.bar(x, height=[accuracy_score(y_test, dtree_predicted),\n",
        "                   accuracy_score(y_test, knn_predicted),\n",
        "                   accuracy_score(y_test, svm_predicted),\n",
        "                   accuracy_score(y_test, hard_voting_predicted),\n",
        "                   accuracy_score(y_test, soft_voting_predicted)])\n",
        "\n",
        "plt.xticks(x, ['decision tree', 'kvm', 'svm', 'hard voting', 'soft voting'])"
      ],
      "execution_count": 15,
      "outputs": [
        {
          "output_type": "execute_result",
          "data": {
            "text/plain": [
              "([<matplotlib.axis.XTick at 0x7fe7b0076d90>,\n",
              "  <matplotlib.axis.XTick at 0x7fe7b0076850>,\n",
              "  <matplotlib.axis.XTick at 0x7fe7b00303d0>,\n",
              "  <matplotlib.axis.XTick at 0x7fe7affc1ed0>,\n",
              "  <matplotlib.axis.XTick at 0x7fe7aff45450>],\n",
              " [Text(0, 0, 'decision tree'),\n",
              "  Text(0, 0, 'kvm'),\n",
              "  Text(0, 0, 'svm'),\n",
              "  Text(0, 0, 'hard voting'),\n",
              "  Text(0, 0, 'soft voting')])"
            ]
          },
          "metadata": {
            "tags": []
          },
          "execution_count": 15
        },
        {
          "output_type": "display_data",
          "data": {
            "image/png": "[encoded data removed]",
            "text/plain": [
              "<Figure size 432x288 with 1 Axes>"
            ]
          },
          "metadata": {
            "tags": [],
            "needs_background": "light"
          }
        }
      ]
    }
  ]
}