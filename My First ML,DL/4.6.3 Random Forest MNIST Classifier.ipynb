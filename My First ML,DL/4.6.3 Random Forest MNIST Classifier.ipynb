{
  "nbformat": 4,
  "nbformat_minor": 0,
  "metadata": {
    "colab": {
      "name": "My First ML,DL/4.6.3 Random Forest MNIST Classifier",
      "provenance": [],
      "collapsed_sections": [],
      "authorship_tag": "ABX9TyMhkIo0mTVUpRif4i1Lkx2/",
      "include_colab_link": true
    },
    "kernelspec": {
      "name": "python3",
      "display_name": "Python 3"
    },
    "language_info": {
      "name": "python"
    }
  },
  "cells": [
    {
      "cell_type": "markdown",
      "metadata": {
        "id": "view-in-github",
        "colab_type": "text"
      },
      "source": [
        "<a href=\"https://colab.research.google.com/github/pseeej/MachineLearning_DCLAB/blob/master/My%20First%20ML%2CDL/4.6.3%20Random%20Forest%20MNIST%20Classifier.ipynb\" target=\"_parent\"><img src=\"https://colab.research.google.com/assets/colab-badge.svg\" alt=\"Open In Colab\"/></a>"
      ]
    },
    {
      "cell_type": "code",
      "metadata": {
        "id": "uBwHGOJqkMgj"
      },
      "source": [
        "from sklearn import datasets\n",
        "from sklearn import tree\n",
        "from sklearn.ensemble import RandomForestClassifier\n",
        "from sklearn.model_selection import cross_val_score\n",
        "import matplotlib.pyplot as plt\n",
        "import pandas as pd\n",
        "import numpy as np"
      ],
      "execution_count": 9,
      "outputs": []
    },
    {
      "cell_type": "code",
      "metadata": {
        "id": "vNyJ6ihSke4n"
      },
      "source": [
        "mnist = datasets.load_digits()\n",
        "features, labels = mnist.data, mnist.target"
      ],
      "execution_count": 2,
      "outputs": []
    },
    {
      "cell_type": "code",
      "metadata": {
        "id": "_e2SoJbMkj1j"
      },
      "source": [
        "def cross_validation(classifier, features, labels): # 교차 검증\n",
        "  cv_scores = []\n",
        "  for i in range(10):\n",
        "    scores = cross_val_score(classifier, features, labels, cv=10, scoring='accuracy') # 교차검증 위한 함수\n",
        "    cv_scores.append(scores.mean())\n",
        "  return cv_scores"
      ],
      "execution_count": 3,
      "outputs": []
    },
    {
      "cell_type": "code",
      "metadata": {
        "id": "wdwYD9ZVkwId"
      },
      "source": [
        "dt_cv_scores = cross_validation(tree.DecisionTreeClassifier(), features, labels)  # 의사 결정 트리\n",
        "rf_cv_scores = cross_validation(RandomForestClassifier(), features, labels) # 랜덤 포레스트"
      ],
      "execution_count": 10,
      "outputs": []
    },
    {
      "cell_type": "code",
      "metadata": {
        "colab": {
          "base_uri": "https://localhost:8080/",
          "height": 286
        },
        "id": "xcHOVZ7slf-R",
        "outputId": "ef22ea9a-57dd-48a5-8b84-61c7629ec35b"
      },
      "source": [
        "cv_list = [\n",
        "           ['random_forest', rf_cv_scores],\n",
        "           ['decision_tree', dt_cv_scores]\n",
        "]\n",
        "df = pd.DataFrame(dict(cv_list))\n",
        "df.plot()\n",
        "\n",
        "# 랜덤 포레스트가 정확도 더 높음 확인 가능."
      ],
      "execution_count": 13,
      "outputs": [
        {
          "output_type": "execute_result",
          "data": {
            "text/plain": [
              "<matplotlib.axes._subplots.AxesSubplot at 0x7f3130a444d0>"
            ]
          },
          "metadata": {
            "tags": []
          },
          "execution_count": 13
        },
        {
          "output_type": "display_data",
          "data": {
            "image/png": "[encoded data removed]",
            "text/plain": [
              "<Figure size 432x288 with 1 Axes>"
            ]
          },
          "metadata": {
            "tags": [],
            "needs_background": "light"
          }
        }
      ]
    },
    {
      "cell_type": "code",
      "metadata": {
        "colab": {
          "base_uri": "https://localhost:8080/"
        },
        "id": "W4rAxP80mLY4",
        "outputId": "6d91d590-9d23-4cb6-f596-38d9195caa31"
      },
      "source": [
        "print(np.mean(dt_cv_scores))\n",
        "print(np.mean(rf_cv_scores))"
      ],
      "execution_count": 16,
      "outputs": [
        {
          "output_type": "stream",
          "text": [
            "0.8274205462445685\n",
            "0.9503525760397269\n"
          ],
          "name": "stdout"
        }
      ]
    }
  ]
}