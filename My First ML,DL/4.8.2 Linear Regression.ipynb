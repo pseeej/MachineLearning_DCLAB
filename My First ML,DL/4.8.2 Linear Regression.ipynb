{
  "nbformat": 4,
  "nbformat_minor": 0,
  "metadata": {
    "colab": {
      "name": "My First ML,DL/4.8.2 Linear Regression",
      "provenance": [],
      "authorship_tag": "ABX9TyPsFLA3jfQoXQtWJy5E9As9",
      "include_colab_link": true
    },
    "kernelspec": {
      "name": "python3",
      "display_name": "Python 3"
    },
    "language_info": {
      "name": "python"
    }
  },
  "cells": [
    {
      "cell_type": "markdown",
      "metadata": {
        "id": "view-in-github",
        "colab_type": "text"
      },
      "source": [
        "<a href=\"https://colab.research.google.com/github/pseeej/MachineLearning_DCLAB/blob/master/My%20First%20ML%2CDL/4.8.2%20Linear%20Regression.ipynb\" target=\"_parent\"><img src=\"https://colab.research.google.com/assets/colab-badge.svg\" alt=\"Open In Colab\"/></a>"
      ]
    },
    {
      "cell_type": "code",
      "metadata": {
        "id": "3E6S-OHdyDWl"
      },
      "source": [
        "from keras import optimizers\n",
        "from keras.models import Sequential\n",
        "from keras.layers import Dense\n",
        "import numpy as np\n",
        "import matplotlib.pyplot as plt\n",
        "%matplotlib inline"
      ],
      "execution_count": 1,
      "outputs": []
    },
    {
      "cell_type": "code",
      "metadata": {
        "id": "5QNBFTAZyJ49"
      },
      "source": [
        "# 데이터 생성\n",
        "\n",
        "X = np.linspace(0, 10, 10)\n",
        "Y = X + np.random.randn(*X.shape)"
      ],
      "execution_count": 2,
      "outputs": []
    },
    {
      "cell_type": "code",
      "metadata": {
        "colab": {
          "base_uri": "https://localhost:8080/"
        },
        "id": "S3PBlq9eyOJl",
        "outputId": "2d0dd4b7-15e3-4580-8236-8c42c5b300eb"
      },
      "source": [
        "# 데이터 조회\n",
        "\n",
        "for x, y in zip(X,Y):\n",
        "    print((round(x,1), round(y,1)))"
      ],
      "execution_count": 3,
      "outputs": [
        {
          "output_type": "stream",
          "text": [
            "(0.0, -2.1)\n",
            "(1.1, 1.4)\n",
            "(2.2, 0.7)\n",
            "(3.3, 2.7)\n",
            "(4.4, 4.2)\n",
            "(5.6, 5.3)\n",
            "(6.7, 6.6)\n",
            "(7.8, 7.8)\n",
            "(8.9, 8.4)\n",
            "(10.0, 9.3)\n"
          ],
          "name": "stdout"
        }
      ]
    },
    {
      "cell_type": "code",
      "metadata": {
        "id": "1eUgFsVhyYew"
      },
      "source": [
        "# 선형 회귀 모델 만들기\n",
        "\n",
        "model = Sequential()\n",
        "model.add(Dense(input_dim=1, units=1, activation=\"linear\", use_bias=False))"
      ],
      "execution_count": 4,
      "outputs": []
    },
    {
      "cell_type": "code",
      "metadata": {
        "id": "x6kGfZuEyhcC"
      },
      "source": [
        "# 경사하강법으로 선형회귀 함수 구하기. MSE 사용\n",
        "\n",
        "sgd = optimizers.SGD(lr=0.05)\n",
        "model.compile(optimizer='sgd', loss='mse')"
      ],
      "execution_count": 5,
      "outputs": []
    },
    {
      "cell_type": "code",
      "metadata": {
        "colab": {
          "base_uri": "https://localhost:8080/"
        },
        "id": "gtwmcIjiynEt",
        "outputId": "b52c5b70-1583-4656-abc5-49484e903af8"
      },
      "source": [
        "# 최초로 설정된 기울기 값 조회\n",
        "\n",
        "weights = model.layers[0].get_weights()\n",
        "w = weights[0][0][0]\n",
        "\n",
        "print('initial w is : ' + str(w))"
      ],
      "execution_count": 6,
      "outputs": [
        {
          "output_type": "stream",
          "text": [
            "initial w is : -1.4421965\n"
          ],
          "name": "stdout"
        }
      ]
    },
    {
      "cell_type": "code",
      "metadata": {
        "colab": {
          "base_uri": "https://localhost:8080/"
        },
        "id": "b5V3tHREytv1",
        "outputId": "f763e4aa-ce8e-4bc6-8ae2-4b89f9b3f134"
      },
      "source": [
        "# 선형 회귀 모델 학습\n",
        "\n",
        "model.fit(X, Y, batch_size=10,epochs=10, verbose=1)"
      ],
      "execution_count": 7,
      "outputs": [
        {
          "output_type": "stream",
          "text": [
            "Epoch 1/10\n",
            "1/1 [==============================] - 0s 362ms/step - loss: 201.4986\n",
            "Epoch 2/10\n",
            "1/1 [==============================] - 0s 11ms/step - loss: 18.3300\n",
            "Epoch 3/10\n",
            "1/1 [==============================] - 0s 5ms/step - loss: 2.2493\n",
            "Epoch 4/10\n",
            "1/1 [==============================] - 0s 9ms/step - loss: 0.8376\n",
            "Epoch 5/10\n",
            "1/1 [==============================] - 0s 4ms/step - loss: 0.7136\n",
            "Epoch 6/10\n",
            "1/1 [==============================] - 0s 4ms/step - loss: 0.7028\n",
            "Epoch 7/10\n",
            "1/1 [==============================] - 0s 4ms/step - loss: 0.7018\n",
            "Epoch 8/10\n",
            "1/1 [==============================] - 0s 5ms/step - loss: 0.7017\n",
            "Epoch 9/10\n",
            "1/1 [==============================] - 0s 5ms/step - loss: 0.7017\n",
            "Epoch 10/10\n",
            "1/1 [==============================] - 0s 4ms/step - loss: 0.7017\n"
          ],
          "name": "stdout"
        },
        {
          "output_type": "execute_result",
          "data": {
            "text/plain": [
              "<tensorflow.python.keras.callbacks.History at 0x7fbe5ab94290>"
            ]
          },
          "metadata": {
            "tags": []
          },
          "execution_count": 7
        }
      ]
    },
    {
      "cell_type": "code",
      "metadata": {
        "colab": {
          "base_uri": "https://localhost:8080/"
        },
        "id": "_K4LGMsCzAyD",
        "outputId": "c431c9ae-5d7b-4bdb-aa48-ce156c3c38b0"
      },
      "source": [
        "# 학습된 선형 회귀 모델의 기울기 조회\n",
        "\n",
        "weights = model.layers[0].get_weights()\n",
        "w = weights[0][0][0]\n",
        "\n",
        "print('trained w is : ' + str(w))"
      ],
      "execution_count": 12,
      "outputs": [
        {
          "output_type": "stream",
          "text": [
            "trained w is : 0.94669425\n"
          ],
          "name": "stdout"
        }
      ]
    },
    {
      "cell_type": "code",
      "metadata": {
        "colab": {
          "base_uri": "https://localhost:8080/",
          "height": 269
        },
        "id": "dbFNKrS2yxoi",
        "outputId": "4ed7edbe-8677-47af-b9aa-e3c1f06ba1db"
      },
      "source": [
        "# 시각화\n",
        "# 예측값이 우리가 생성한 data와 비슷\n",
        "\n",
        "plt.plot(X, Y, label='data')\n",
        "plt.plot(X, w*X, label='prediction')\n",
        "plt.legend()\n",
        "plt.show()"
      ],
      "execution_count": 14,
      "outputs": [
        {
          "output_type": "display_data",
          "data": {
            "image/png": "[encoded data removed]",
            "text/plain": [
              "<Figure size 432x288 with 1 Axes>"
            ]
          },
          "metadata": {
            "tags": [],
            "needs_background": "light"
          }
        }
      ]
    }
  ]
}