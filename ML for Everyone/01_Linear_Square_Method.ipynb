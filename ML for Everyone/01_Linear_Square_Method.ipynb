{
  "nbformat": 4,
  "nbformat_minor": 0,
  "metadata": {
    "colab": {
      "name": "Untitled0.ipynb",
      "provenance": [],
      "authorship_tag": "ABX9TyOySJxE20ipqU5mVY9R7ptL",
      "include_colab_link": true
    },
    "kernelspec": {
      "name": "python3",
      "display_name": "Python 3"
    },
    "language_info": {
      "name": "python"
    }
  },
  "cells": [
    {
      "cell_type": "markdown",
      "metadata": {
        "id": "view-in-github",
        "colab_type": "text"
      },
      "source": [
        "<a href=\"https://colab.research.google.com/github/pseeej/MachineLearning_DCLAB/blob/master/ML%20for%20Everyone/01_Linear_Square_Method.ipynb\" target=\"_parent\"><img src=\"https://colab.research.google.com/assets/colab-badge.svg\" alt=\"Open In Colab\"/></a>"
      ]
    },
    {
      "cell_type": "code",
      "metadata": {
        "id": "2Au9-bWQtJrL"
      },
      "source": [
        "import numpy as np"
      ],
      "execution_count": 1,
      "outputs": []
    },
    {
      "cell_type": "code",
      "metadata": {
        "id": "l_yHpt0UtNYq"
      },
      "source": [
        "# x값과 y값\n",
        "x = [2, 4, 6, 8]\n",
        "y = [81, 93, 91, 97]"
      ],
      "execution_count": 2,
      "outputs": []
    },
    {
      "cell_type": "code",
      "metadata": {
        "colab": {
          "base_uri": "https://localhost:8080/"
        },
        "id": "GN86v8HftSx2",
        "outputId": "f5f7aae9-c6d6-4e51-8605-5796da26181b"
      },
      "source": [
        "# x와 y의 평균값\n",
        "mx = np.mean(x)\n",
        "my = np.mean(y)\n",
        "print(\"x의 평균값 : \", mx)\n",
        "print(\"y의 평균값 : \", my)"
      ],
      "execution_count": 3,
      "outputs": [
        {
          "output_type": "stream",
          "text": [
            "x의 평균값 :  5.0\n",
            "y의 평균값 :  90.5\n"
          ],
          "name": "stdout"
        }
      ]
    },
    {
      "cell_type": "code",
      "metadata": {
        "id": "AMRyBGaytb4T"
      },
      "source": [
        "# 기울기 공식의 분모\n",
        "divisor = sum([(mx-i)**2 for i in x])"
      ],
      "execution_count": 4,
      "outputs": []
    },
    {
      "cell_type": "code",
      "metadata": {
        "id": "23zIKsZ6thGa"
      },
      "source": [
        "# 기울기 공식의 분자\n",
        "def top(x, mx, y, my):\n",
        "   d = 0\n",
        "   for i in range(len(x)):\n",
        "     d += (x[i] - mx) * (y[i] - my)\n",
        "   return d\n",
        "\n",
        "dividend = top(x, mx, y, my)"
      ],
      "execution_count": 5,
      "outputs": []
    },
    {
      "cell_type": "code",
      "metadata": {
        "colab": {
          "base_uri": "https://localhost:8080/"
        },
        "id": "O_07ksN3twGT",
        "outputId": "9b4b6c8a-8259-4f2f-c1e9-3eaefda1a3f9"
      },
      "source": [
        "print(\"분모 : \", divisor)\n",
        "print(\"분자 : \", dividend)"
      ],
      "execution_count": 6,
      "outputs": [
        {
          "output_type": "stream",
          "text": [
            "분모 :  20.0\n",
            "분자 :  46.0\n"
          ],
          "name": "stdout"
        }
      ]
    },
    {
      "cell_type": "code",
      "metadata": {
        "id": "mFYmf0I0t12s"
      },
      "source": [
        "# 기울기와 y절편 구하기\n",
        "a = dividend / divisor\n",
        "b = my - (mx*a)"
      ],
      "execution_count": 7,
      "outputs": []
    },
    {
      "cell_type": "code",
      "metadata": {
        "colab": {
          "base_uri": "https://localhost:8080/"
        },
        "id": "c41sOvSBt7O6",
        "outputId": "82fce440-b846-4b6c-e6c5-2253d125719d"
      },
      "source": [
        "# 출력으로 확인\n",
        "print(\"기울기 a = \", a)\n",
        "print(\"y 절편 b = \", b)"
      ],
      "execution_count": 8,
      "outputs": [
        {
          "output_type": "stream",
          "text": [
            "기울기 a =  2.3\n",
            "y 절편 b =  79.0\n"
          ],
          "name": "stdout"
        }
      ]
    }
  ]
}