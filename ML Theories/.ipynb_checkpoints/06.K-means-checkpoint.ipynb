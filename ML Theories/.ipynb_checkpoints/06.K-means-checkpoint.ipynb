{
 "cells": [
  {
   "cell_type": "code",
   "execution_count": 1,
   "metadata": {},
   "outputs": [],
   "source": [
    "import numpy as np\n",
    "from numpy.random import randint\n",
    "from PIL import Image"
   ]
  },
  {
   "cell_type": "code",
   "execution_count": 2,
   "metadata": {},
   "outputs": [],
   "source": [
    "# 감색 후의 색 개수 지정. cluster 개수\n",
    "Colors = [2]"
   ]
  },
  {
   "cell_type": "code",
   "execution_count": 3,
   "metadata": {},
   "outputs": [],
   "source": [
    "# K-means을 이용한 감색 처리\n",
    "\n",
    "def run_kmeans(pixels, k):\n",
    "    cls = [0] * len(pixels)\n",
    "    \n",
    "    # 대표 색상 초기값 랜덤 설정\n",
    "    center = []\n",
    "    for i in range(k):\n",
    "        center.append(np.array([randint(256), randint(256), randint(256)]))\n",
    "        \n",
    "    print(\"initial centers : \", end = \" \")\n",
    "    for i in range(k):\n",
    "        print(list(center[i]), end=\" \")\n",
    "    print()\n",
    "    print(\"===============================\")\n",
    "    \n",
    "    # 분류 퀄리티가 얼마나 나쁜지를 나타내는 제곱 에러. 계산 반복할 때마다 값 작아짐\n",
    "    distortion = 0.0\n",
    "    \n",
    "    # 최대 50번의 반복 진행\n",
    "    for iter_num in range(50):\n",
    "        center_new = []\n",
    "        for i in range(k):\n",
    "            center_new.append(np.array([0,0,0]))\n",
    "        num_points = [0] * k\n",
    "        distortion_new = 0.0\n",
    "        \n",
    "        # 각 data가 속한 group 계산\n",
    "        for pix, point in enumerate(pixels):\n",
    "            min_dist = 256*256*3\n",
    "            point = np.array(point)\n",
    "            for i in range(k):\n",
    "                d = sum([x*x for x in point-center[i]])\n",
    "                if d<min_dist:\n",
    "                    min_dist = d\n",
    "                    cls[pix] = i\n",
    "            center_new[cls[pix]] += point\n",
    "            num_points[cls[pix]] += 1\n",
    "            distortion_new += min_dist\n",
    "\n",
    "        # 대푯값 갱신하기\n",
    "        for i in range(k):\n",
    "            center_new[i] = center_new[i] // num_points[i]\n",
    "        center = center_new\n",
    "        for i in range(k):\n",
    "            print(list(center[i]), end=\" \")\n",
    "        print()\n",
    "        print(\"Distortion : J=%d\" %distortion_new)\n",
    "        \n",
    "        if iter_num > 0 and distortion - distortion_new < distortion * 0.001:\n",
    "            break\n",
    "        distortion = distortion_new\n",
    "        \n",
    "    for pix, point in enumerate(pixels):\n",
    "        pixels[pix] = tuple(center[cls[pix]])\n",
    "        \n",
    "    return pixels"
   ]
  },
  {
   "cell_type": "code",
   "execution_count": 5,
   "metadata": {
    "scrolled": true
   },
   "outputs": [
    {
     "name": "stdout",
     "output_type": "stream",
     "text": [
      "\n",
      "===============================\n",
      "Number of clusters : K=2\n",
      "initial centers :  [36, 84, 155] [247, 100, 24] \n",
      "===============================\n",
      "[89, 115, 66] [217, 168, 174] \n",
      "Distortion : J=5628239258\n",
      "[102, 95, 57] [229, 203, 209] \n",
      "Distortion : J=1269153006\n",
      "[109, 95, 61] [232, 214, 218] \n",
      "Distortion : J=926168074\n",
      "[111, 96, 63] [234, 217, 222] \n",
      "Distortion : J=892438786\n",
      "[112, 96, 64] [234, 219, 223] \n",
      "Distortion : J=887218924\n",
      "[112, 96, 64] [234, 219, 223] \n",
      "Distortion : J=886260562\n",
      "[112, 96, 64] [234, 219, 223] \n",
      "Distortion : J=886260562\n"
     ]
    }
   ],
   "source": [
    "for k in Colors : \n",
    "    print(\"\")\n",
    "    print(\"===============================\")\n",
    "    print(\"Number of clusters : K=%d\" %k)\n",
    "    \n",
    "    im = Image.open(\"photo.jpg\")\n",
    "    pixels = list(im.convert('RGB').getdata())\n",
    "    \n",
    "    result = run_kmeans(pixels, k)\n",
    "    \n",
    "    im.putdata(result)\n",
    "    im.save(\"output%02d.bmp\" % k, \"BMP\")"
   ]
  },
  {
   "cell_type": "code",
   "execution_count": 6,
   "metadata": {},
   "outputs": [],
   "source": [
    "from IPython.display import Image"
   ]
  },
  {
   "cell_type": "markdown",
   "metadata": {},
   "source": [
    "![output02](./output02.bmp)"
   ]
  }
 ],
 "metadata": {
  "kernelspec": {
   "display_name": "Python 3",
   "language": "python",
   "name": "python3"
  },
  "language_info": {
   "codemirror_mode": {
    "name": "ipython",
    "version": 3
   },
   "file_extension": ".py",
   "mimetype": "text/x-python",
   "name": "python",
   "nbconvert_exporter": "python",
   "pygments_lexer": "ipython3",
   "version": "3.8.5"
  }
 },
 "nbformat": 4,
 "nbformat_minor": 4
}
