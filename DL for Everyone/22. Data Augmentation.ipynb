{
  "nbformat": 4,
  "nbformat_minor": 0,
  "metadata": {
    "colab": {
      "name": "DL for Everyone/22. Data Augmentation.ipynb",
      "provenance": [],
      "collapsed_sections": [],
      "authorship_tag": "ABX9TyM0Ar9wQKuf+0K1QGbWCCmS",
      "include_colab_link": true
    },
    "kernelspec": {
      "name": "python3",
      "display_name": "Python 3"
    },
    "language_info": {
      "name": "python"
    }
  },
  "cells": [
    {
      "cell_type": "markdown",
      "metadata": {
        "id": "view-in-github",
        "colab_type": "text"
      },
      "source": [
        "<a href=\"https://colab.research.google.com/github/pseeej/MachineLearning_DCLAB/blob/master/DL%20for%20Everyone/22.%20Data%20Augmentation.ipynb\" target=\"_parent\"><img src=\"https://colab.research.google.com/assets/colab-badge.svg\" alt=\"Open In Colab\"/></a>"
      ]
    },
    {
      "cell_type": "code",
      "metadata": {
        "id": "68EesFCFOSjX"
      },
      "source": [
        "import tensorflow as tf\n",
        "import numpy as np\n",
        "import matplotlib.pyplot as plt\n",
        "\n",
        "from tensorflow.keras.models import Sequential\n",
        "from tensorflow.keras.layers import Dense, Activation, Dropout, Flatten, Dense, Conv2D, MaxPooling2D\n",
        "from tensorflow.keras.preprocessing.image import ImageDataGenerator\n",
        "from tensorflow.keras import optimizers, initializers, regularizers, metrics"
      ],
      "execution_count": null,
      "outputs": []
    },
    {
      "cell_type": "code",
      "metadata": {
        "id": "vlitSs0TOuBt"
      },
      "source": [
        "np.random.seed(3)\n",
        "tf.random.set_seed(3)"
      ],
      "execution_count": null,
      "outputs": []
    },
    {
      "cell_type": "code",
      "metadata": {
        "id": "rKHpzm1OOwrM"
      },
      "source": [
        "# data 수 늘리는 ImageDataGenerator\n",
        "# 주어진 데이터를 이용해 변형된 이미지를 만들어 학습셋에 포함시키는 편리한 기능 제공.\n",
        "# 근데 이거 아래처럼 인자 다 적용하면 불필요한 데이터 만들어내서 학습 시간 늘어나게 됨.\n",
        "train_datagen = ImageDataGenerator(rescale=1./255,  # 주어진 이미지의 크기 바꿔줌. 정규화 과정.\n",
        "                                   horizontal_flip = True,  # 수평 대칭 이미지를 50% 확률로 만들어 추가\n",
        "                                   width_shift_range = 0.1, # 전체 크기의 10%\n",
        "                                   height_shift_range = 0.1,  # 마찬가지로 위아래로 이동\n",
        "                                   # rotation_range = 5,  # 정해진 각도만큼 이미지 회전\n",
        "                                   # shear_range = 0.7, # 좌표 하나 고정시키고 다른 몇 개의 좌표 이동시키는 변환\n",
        "                                   # zoom_range=[0.9, 2.2], # 정해진 범위 안에서 축소/확대\n",
        "                                   # vertical_flip = True\n",
        "                                   fill_mode = 'nearest') # 이미지를 축소/회전/이동할 때 생기는 빈 공간을 어떻게 채울지 결정. nearest는 가장 비슷한 색으로 채움."
      ],
      "execution_count": null,
      "outputs": []
    },
    {
      "cell_type": "code",
      "metadata": {
        "id": "65HWnIshPDBT"
      },
      "source": [
        "# 폴더에 저장된 데이터 불러오는 flow_from_directory\n",
        "train_generator = train_datagen.flow_from_directory(\n",
        "       './train',   #학습셋이 있는 폴더의 위치입니다.\n",
        "       target_size=(150, 150),  # 이미지 크기\n",
        "       batch_size=5,\n",
        "       class_mode='binary') # 치매/정상 2진분류이므로 바이너리 모드로 실행"
      ],
      "execution_count": null,
      "outputs": []
    },
    {
      "cell_type": "code",
      "metadata": {
        "id": "JGkracY4PKxF"
      },
      "source": [
        "# 테스트셋은 이미지 부풀리기 과정을 진행하지 않음\n",
        "test_datagen = ImageDataGenerator(rescale=1./255)"
      ],
      "execution_count": null,
      "outputs": []
    },
    {
      "cell_type": "code",
      "metadata": {
        "id": "xJKUGxTnRX7h"
      },
      "source": [
        "test_generator = test_datagen.flow_from_directory(\n",
        "    './test',  # 테스트셋이 있는 폴더 위치\n",
        "    target_size = (150, 150),\n",
        "    batch_size = 5,\n",
        "    class_mode = 'binary')"
      ],
      "execution_count": null,
      "outputs": []
    },
    {
      "cell_type": "code",
      "metadata": {
        "id": "zsDE4hocRg18"
      },
      "source": [
        "# 앞서 배운 CNN 모델을 만들어 적용하기\n",
        "model = Sequential()\n",
        "model.add(Conv2D(32, (3, 3), input_shape=(150, 150, 3)))\n",
        "model.add(Activation('relu'))\n",
        "model.add(MaxPooling2D(pool_size=(2,2)))\n",
        "\n",
        "model.add(Conv2D(32, (3, 3)))\n",
        "model.add(Activation('relu'))\n",
        "model.add(MaxPooling2D(pool_size=(2,2)))\n",
        "\n",
        "model.add(Conv2D(64, (3, 3)))\n",
        "model.add(Activation('relu'))\n",
        "model.add(MaxPooling2D(pool_size = (2, 2)))\n",
        "\n",
        "model.add(Flatten())\n",
        "model.add(Dense(64))\n",
        "model.add(Activation('relu'))\n",
        "model.add(Dropout(0.5))\n",
        "model.add(Dense(2))\n",
        "model.add(Activation('softmax'))"
      ],
      "execution_count": null,
      "outputs": []
    },
    {
      "cell_type": "code",
      "metadata": {
        "id": "cu7XOLKKSESR"
      },
      "source": [
        "# 모델 컴파일\n",
        "model.compile(loss='sparse_categorical_crossentropy', optimizer=optimizers.Adam(learning_rate=0.0002), metrics=['accuracy'])"
      ],
      "execution_count": null,
      "outputs": []
    },
    {
      "cell_type": "code",
      "metadata": {
        "id": "zArhBtXrSOxh"
      },
      "source": [
        "# 모델 실행\n",
        "history = model.fit_generator(  \n",
        "    train_generator,  # 학습모델\n",
        "    steps_per_epoch = 100,  # 이미지 생성기에서 몇 개의 샘플 뽑을지 결정\n",
        "    epochs=20,\n",
        "    validation_data = test_generator, validation_steps=4  # 앞에서 만들어진 test_generator를 테스트셋으로 사용\n",
        ")"
      ],
      "execution_count": null,
      "outputs": []
    },
    {
      "cell_type": "code",
      "metadata": {
        "id": "O1MKN0VySsn5"
      },
      "source": [
        "#결과를 그래프로 표현하는 부분입니다.\n",
        "acc= history.history['accuracy']\n",
        "val_acc= history.history['val_accuracy']\n",
        "y_vloss = history.history['val_loss']\n",
        "y_loss = history.history['loss']\n",
        "\n",
        "x_len = np.arange(len(y_loss))  \n",
        "plt.plot(x_len, acc, marker='.', c=\"red\", label='Trainset_acc')\n",
        "plt.plot(x_len, val_acc, marker='.', c=\"lightcoral\", label='Testset_acc')\n",
        "plt.plot(x_len, y_vloss, marker='.', c=\"cornflowerblue\", label='Testset_loss')\n",
        "plt.plot(x_len, y_loss, marker='.', c=\"blue\", label='Trainset_loss')\n",
        "\n",
        "plt.legend(loc='upper right') \n",
        "plt.grid()\n",
        "plt.xlabel('epoch')\n",
        "plt.ylabel('loss/acc')\n",
        "plt.show()"
      ],
      "execution_count": null,
      "outputs": []
    }
  ]
}