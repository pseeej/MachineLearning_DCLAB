{
  "nbformat": 4,
  "nbformat_minor": 0,
  "metadata": {
    "colab": {
      "name": "DL for Everyone/18. RNN1 Reuters.ipynb",
      "provenance": [],
      "authorship_tag": "ABX9TyPnEqRrdwIQpPB7WHgXotlq",
      "include_colab_link": true
    },
    "kernelspec": {
      "name": "python3",
      "display_name": "Python 3"
    },
    "language_info": {
      "name": "python"
    }
  },
  "cells": [
    {
      "cell_type": "markdown",
      "metadata": {
        "id": "view-in-github",
        "colab_type": "text"
      },
      "source": [
        "<a href=\"https://colab.research.google.com/github/pseeej/MachineLearning_DCLAB/blob/master/DL%20for%20Everyone/18.%20RNN1%20Reuters.ipynb\" target=\"_parent\"><img src=\"https://colab.research.google.com/assets/colab-badge.svg\" alt=\"Open In Colab\"/></a>"
      ]
    },
    {
      "cell_type": "code",
      "metadata": {
        "id": "pU_Ivf8bhawh"
      },
      "source": [
        "from keras.datasets import reuters  # 로이터 뉴스 데이터셋 불러오기\n",
        "from keras.models import Sequential\n",
        "from keras.layers import Dense, LSTM, Embedding\n",
        "from keras.preprocessing import sequence\n",
        "from keras.utils import np_utils\n",
        "\n",
        "import numpy as np\n",
        "import tensorflow as tf\n",
        "import matplotlib.pyplot as plt"
      ],
      "execution_count": 1,
      "outputs": []
    },
    {
      "cell_type": "code",
      "metadata": {
        "id": "0RRW4A_KhzbA"
      },
      "source": [
        "# seed값 설정\n",
        "seed = 0\n",
        "np.random.seed(seed)\n",
        "tf.random.set_seed(3)"
      ],
      "execution_count": 2,
      "outputs": []
    },
    {
      "cell_type": "code",
      "metadata": {
        "colab": {
          "base_uri": "https://localhost:8080/"
        },
        "id": "h7B8YhSGh3vd",
        "outputId": "a6c643c5-d25c-4bf4-a2a9-eabc20af5315"
      },
      "source": [
        "# 불러온 데이터를 학습셋과 테스트셋으로 나누기\n",
        "(X_train, Y_train), (X_test, Y_test) = reuters.load_data(num_words=1000, test_split=0.2)"
      ],
      "execution_count": 3,
      "outputs": [
        {
          "output_type": "stream",
          "text": [
            "/usr/local/lib/python3.7/dist-packages/keras/datasets/reuters.py:143: VisibleDeprecationWarning: Creating an ndarray from ragged nested sequences (which is a list-or-tuple of lists-or-tuples-or ndarrays with different lengths or shapes) is deprecated. If you meant to do this, you must specify 'dtype=object' when creating the ndarray\n",
            "  x_train, y_train = np.array(xs[:idx]), np.array(labels[:idx])\n",
            "/usr/local/lib/python3.7/dist-packages/keras/datasets/reuters.py:144: VisibleDeprecationWarning: Creating an ndarray from ragged nested sequences (which is a list-or-tuple of lists-or-tuples-or ndarrays with different lengths or shapes) is deprecated. If you meant to do this, you must specify 'dtype=object' when creating the ndarray\n",
            "  x_test, y_test = np.array(xs[idx:]), np.array(labels[idx:])\n"
          ],
          "name": "stderr"
        }
      ]
    },
    {
      "cell_type": "code",
      "metadata": {
        "colab": {
          "base_uri": "https://localhost:8080/"
        },
        "id": "hwN4ou6tiG2V",
        "outputId": "ceb80d86-56f3-4bc7-da33-cea3e6c8a90c"
      },
      "source": [
        "# 데이터 확인하기\n",
        "category = np.max(Y_train)+1\n",
        "print(category, '카테고리')\n",
        "print(len(X_train), '학습용 뉴스 기사')\n",
        "print(len(X_test), '테스트용 뉴스 기사')\n",
        "\n",
        "# 딥러닝은 단어를 그대로 사용하지 않고 숫자로 변환한 다음 학습 가능. 데이터 안에서 해당 단어가 몇 번 나타나는지 세어 빈도에 따라 번호 붙임. 주어진 숫자는 빈도 높은 순위라고 생각하면 됨.\n",
        "# 빈도가 1에서 1000(위 cell에서의 num_words) 사이인 단어만 선택해서 불러옴. 모든 단어 사용하기엔 비효율적이므로.\n",
        "print(X_train[0]) "
      ],
      "execution_count": 4,
      "outputs": [
        {
          "output_type": "stream",
          "text": [
            "46 카테고리\n",
            "8982 학습용 뉴스 기사\n",
            "2246 테스트용 뉴스 기사\n",
            "[1, 2, 2, 8, 43, 10, 447, 5, 25, 207, 270, 5, 2, 111, 16, 369, 186, 90, 67, 7, 89, 5, 19, 102, 6, 19, 124, 15, 90, 67, 84, 22, 482, 26, 7, 48, 4, 49, 8, 864, 39, 209, 154, 6, 151, 6, 83, 11, 15, 22, 155, 11, 15, 7, 48, 9, 2, 2, 504, 6, 258, 6, 272, 11, 15, 22, 134, 44, 11, 15, 16, 8, 197, 2, 90, 67, 52, 29, 209, 30, 32, 132, 6, 109, 15, 17, 12]\n"
          ],
          "name": "stdout"
        }
      ]
    },
    {
      "cell_type": "code",
      "metadata": {
        "id": "jbHSPY0MiQRl"
      },
      "source": [
        "# 데이터 전처리\n",
        "# 각 기사의 단어 수가 다르므로 이를 동일하게 맞춰주기 위해 사용. maxlen으로 단어 개수 맞춤. 100에서 모자랄 때는 다 0으로 채움.\n",
        "x_train = sequence.pad_sequences(X_train, maxlen=100)\n",
        "x_test = sequence.pad_sequences(X_test, maxlen=100)\n",
        "\n",
        "# one-hot-encoding 사용하여 데이터 전처리 과정 수행\n",
        "y_train = np_utils.to_categorical(Y_train)\n",
        "y_test = np_utils.to_categorical(Y_test)"
      ],
      "execution_count": 5,
      "outputs": []
    },
    {
      "cell_type": "code",
      "metadata": {
        "id": "M768k1W0idYD"
      },
      "source": [
        "# 모델의 설정\n",
        "model = Sequential()\n",
        "\n",
        "# 데이터 전처리 과정을 통해 입력된 값을 받아 다음 층이 알아들을 수 있는 형태로 변환.\n",
        "# Embedding(불러온 단어의 총 개수, 기사당 단어 수)\n",
        "model.add(Embedding(1000, 100))\n",
        "\n",
        "# RNN에서 기억 값에 대한 가중치 제어하는 LSTM.\n",
        "# LSTM(기사당 단어 수, 기타 옵션) 여기서는 기타 옵션으로 활성화함수 tanh 지정\n",
        "model.add(LSTM(100, activation='tanh'))\n",
        "\n",
        "model.add(Dense(46, activation='softmax'))"
      ],
      "execution_count": 6,
      "outputs": []
    },
    {
      "cell_type": "code",
      "metadata": {
        "id": "5MxkVvQLilyT"
      },
      "source": [
        "# 모델의 컴파일\n",
        "model.compile(loss='categorical_crossentropy', optimizer='adam', metrics=['accuracy'])"
      ],
      "execution_count": 7,
      "outputs": []
    },
    {
      "cell_type": "code",
      "metadata": {
        "colab": {
          "base_uri": "https://localhost:8080/"
        },
        "id": "DWWdh9YAitfF",
        "outputId": "18adbb91-ec46-45ff-aac2-ca91ad8a7d6c"
      },
      "source": [
        "# 모델의 실행\n",
        "history = model.fit(x_train, y_train, batch_size=100, epochs=20, validation_data=(x_test, y_test))"
      ],
      "execution_count": 8,
      "outputs": [
        {
          "output_type": "stream",
          "text": [
            "Epoch 1/20\n",
            "90/90 [==============================] - 38s 242ms/step - loss: 2.9665 - accuracy: 0.3179 - val_loss: 2.1698 - val_accuracy: 0.4488\n",
            "Epoch 2/20\n",
            "90/90 [==============================] - 20s 218ms/step - loss: 2.0570 - accuracy: 0.4787 - val_loss: 1.9395 - val_accuracy: 0.5076\n",
            "Epoch 3/20\n",
            "90/90 [==============================] - 20s 220ms/step - loss: 1.9519 - accuracy: 0.4981 - val_loss: 1.7940 - val_accuracy: 0.5401\n",
            "Epoch 4/20\n",
            "90/90 [==============================] - 20s 218ms/step - loss: 1.7491 - accuracy: 0.5405 - val_loss: 1.8132 - val_accuracy: 0.5543\n",
            "Epoch 5/20\n",
            "90/90 [==============================] - 20s 218ms/step - loss: 1.7558 - accuracy: 0.5470 - val_loss: 1.6890 - val_accuracy: 0.5668\n",
            "Epoch 6/20\n",
            "90/90 [==============================] - 19s 215ms/step - loss: 1.6683 - accuracy: 0.5757 - val_loss: 1.6413 - val_accuracy: 0.6042\n",
            "Epoch 7/20\n",
            "90/90 [==============================] - 19s 217ms/step - loss: 1.6052 - accuracy: 0.5994 - val_loss: 1.6004 - val_accuracy: 0.6042\n",
            "Epoch 8/20\n",
            "90/90 [==============================] - 19s 216ms/step - loss: 1.4858 - accuracy: 0.6326 - val_loss: 1.5503 - val_accuracy: 0.6153\n",
            "Epoch 9/20\n",
            "90/90 [==============================] - 19s 215ms/step - loss: 1.3829 - accuracy: 0.6527 - val_loss: 1.4441 - val_accuracy: 0.6394\n",
            "Epoch 10/20\n",
            "90/90 [==============================] - 19s 216ms/step - loss: 1.2897 - accuracy: 0.6768 - val_loss: 1.3779 - val_accuracy: 0.6567\n",
            "Epoch 11/20\n",
            "90/90 [==============================] - 19s 213ms/step - loss: 1.2256 - accuracy: 0.6899 - val_loss: 1.3161 - val_accuracy: 0.6808\n",
            "Epoch 12/20\n",
            "90/90 [==============================] - 20s 217ms/step - loss: 1.1436 - accuracy: 0.7150 - val_loss: 1.2827 - val_accuracy: 0.6790\n",
            "Epoch 13/20\n",
            "90/90 [==============================] - 19s 216ms/step - loss: 1.0417 - accuracy: 0.7361 - val_loss: 1.2297 - val_accuracy: 0.6968\n",
            "Epoch 14/20\n",
            "90/90 [==============================] - 19s 215ms/step - loss: 1.0179 - accuracy: 0.7323 - val_loss: 1.2287 - val_accuracy: 0.6923\n",
            "Epoch 15/20\n",
            "90/90 [==============================] - 19s 216ms/step - loss: 0.9916 - accuracy: 0.7500 - val_loss: 1.2373 - val_accuracy: 0.6959\n",
            "Epoch 16/20\n",
            "90/90 [==============================] - 19s 216ms/step - loss: 0.9466 - accuracy: 0.7630 - val_loss: 1.2005 - val_accuracy: 0.7008\n",
            "Epoch 17/20\n",
            "90/90 [==============================] - 19s 213ms/step - loss: 0.8668 - accuracy: 0.7768 - val_loss: 1.2166 - val_accuracy: 0.7021\n",
            "Epoch 18/20\n",
            "90/90 [==============================] - 19s 212ms/step - loss: 0.8051 - accuracy: 0.8010 - val_loss: 1.2009 - val_accuracy: 0.7048\n",
            "Epoch 19/20\n",
            "90/90 [==============================] - 19s 211ms/step - loss: 0.8133 - accuracy: 0.8007 - val_loss: 1.2147 - val_accuracy: 0.7048\n",
            "Epoch 20/20\n",
            "90/90 [==============================] - 19s 212ms/step - loss: 0.7967 - accuracy: 0.7977 - val_loss: 1.2275 - val_accuracy: 0.7057\n"
          ],
          "name": "stdout"
        }
      ]
    },
    {
      "cell_type": "code",
      "metadata": {
        "colab": {
          "base_uri": "https://localhost:8080/"
        },
        "id": "abbGcmFYi0eN",
        "outputId": "019f2002-3fa8-4ba3-f0f4-baa57a4e3432"
      },
      "source": [
        "# 테스트 정확도 출력\n",
        "print(\"\\n Test Accuracy : %.4f\" %(model.evaluate(x_test, y_test)[1]))"
      ],
      "execution_count": 9,
      "outputs": [
        {
          "output_type": "stream",
          "text": [
            "71/71 [==============================] - 1s 20ms/step - loss: 1.2275 - accuracy: 0.7057\n",
            "\n",
            " Test Accuracy : 0.7057\n"
          ],
          "name": "stdout"
        }
      ]
    },
    {
      "cell_type": "code",
      "metadata": {
        "id": "xe47Tz5fi6Qv"
      },
      "source": [
        "# 테스트셋의 오차\n",
        "y_vloss = history.history['val_loss']"
      ],
      "execution_count": 10,
      "outputs": []
    },
    {
      "cell_type": "code",
      "metadata": {
        "id": "Dt_Lvvxpi-Hf"
      },
      "source": [
        "# 학습셋의 오차\n",
        "y_loss = history.history['loss']"
      ],
      "execution_count": 11,
      "outputs": []
    },
    {
      "cell_type": "code",
      "metadata": {
        "colab": {
          "base_uri": "https://localhost:8080/",
          "height": 279
        },
        "id": "hcRn6LIjjA9n",
        "outputId": "41a617f7-bfb7-4891-bfd0-f911479e5daf"
      },
      "source": [
        "# 그래프로 표현\n",
        "x_len = np.arange(len(y_loss))\n",
        "plt.plot(x_len, y_vloss, marker='.', c=\"red\", label='Testset_loss')\n",
        "plt.plot(x_len, y_loss, marker='.', c=\"blue\", label=\"Trainset_loss\")\n",
        "\n",
        "# 그래프에 그리드를 주고 레이블을 표시\n",
        "plt.legend(loc='upper right')\n",
        "plt.grid()\n",
        "plt.xlabel('epoch')\n",
        "plt.ylabel('loss')\n",
        "plt.show()"
      ],
      "execution_count": 14,
      "outputs": [
        {
          "output_type": "display_data",
          "data": {
            "image/png": "[encoded data removed]",
            "text/plain": [
              "<Figure size 432x288 with 1 Axes>"
            ]
          },
          "metadata": {
            "tags": [],
            "needs_background": "light"
          }
        }
      ]
    }
  ]
}