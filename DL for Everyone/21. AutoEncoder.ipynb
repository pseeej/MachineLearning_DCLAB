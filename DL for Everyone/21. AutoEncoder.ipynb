{
  "nbformat": 4,
  "nbformat_minor": 0,
  "metadata": {
    "colab": {
      "name": "DL for Everyone/21. AutoEncoder.ipynb",
      "provenance": [],
      "authorship_tag": "ABX9TyPFzF+kXwQFaQYhH1janRwK",
      "include_colab_link": true
    },
    "kernelspec": {
      "display_name": "Python 3",
      "name": "python3"
    },
    "language_info": {
      "name": "python"
    }
  },
  "cells": [
    {
      "cell_type": "markdown",
      "metadata": {
        "id": "view-in-github",
        "colab_type": "text"
      },
      "source": [
        "<a href=\"https://colab.research.google.com/github/pseeej/MachineLearning_DCLAB/blob/master/DL%20for%20Everyone/21.%20AutoEncoder.ipynb\" target=\"_parent\"><img src=\"https://colab.research.google.com/assets/colab-badge.svg\" alt=\"Open In Colab\"/></a>"
      ]
    },
    {
      "cell_type": "code",
      "metadata": {
        "id": "EAabKu82IWGv"
      },
      "source": [
        "from tensorflow.keras.datasets import mnist\n",
        "from tensorflow.keras.models import Sequential, Model\n",
        "from tensorflow.keras.layers import Input, Dense, Conv2D, MaxPooling2D, UpSampling2D, Flatten, Reshape\n",
        "\n",
        "import matplotlib.pyplot as plt\n",
        "import numpy as np"
      ],
      "execution_count": 10,
      "outputs": []
    },
    {
      "cell_type": "code",
      "metadata": {
        "id": "pigPr-5RJSk2"
      },
      "source": [
        "# MNIST data set 호출\n",
        "(X_train, _), (X_test, _) = mnist.load_data()\n",
        "X_train = X_train.reshape(X_train.shape[0], 28, 28, 1).astype('float32')/255\n",
        "X_test = X_test.reshape(X_test.shape[0], 28, 28, 1).astype('float32')/255"
      ],
      "execution_count": 11,
      "outputs": []
    },
    {
      "cell_type": "code",
      "metadata": {
        "id": "LjXhS6bPJjEc"
      },
      "source": [
        "# 생성자 모델 만들기\n",
        "autoencoder = Sequential()"
      ],
      "execution_count": 12,
      "outputs": []
    },
    {
      "cell_type": "code",
      "metadata": {
        "id": "UoabBo-MJlr8"
      },
      "source": [
        "# 인코딩 부분(# 입력된 값의 차원을 축소. MaxPooling 이용해서.)\n",
        "autoencoder.add(Conv2D(16, kernel_size=3, padding='same', input_shape=(28, 28, 1), activation='relu'))\n",
        "autoencoder.add(MaxPooling2D(pool_size=2, padding='same'))\n",
        "autoencoder.add(Conv2D(8, kernel_size=3, activation='relu', padding='same'))\n",
        "autoencoder.add(MaxPooling2D(pool_size=2, padding='same'))\n",
        "autoencoder.add(Conv2D(8, kernel_size = 3, strides=2, padding='same', activation='relu'))"
      ],
      "execution_count": 13,
      "outputs": []
    },
    {
      "cell_type": "code",
      "metadata": {
        "id": "KnjhGY0yJ61H"
      },
      "source": [
        "# 디코딩 부분(차원을 점차 늘려 입력 값과 똑같은 크기의 출력 값을 내보내도록 함. UpSampling 이용해서.)\n",
        "autoencoder.add(Conv2D(8, kernel_size=3, padding='same', activation='relu'))\n",
        "autoencoder.add(UpSampling2D())\n",
        "autoencoder.add(Conv2D(8, kernel_size=3, padding='same', activation='relu'))\n",
        "autoencoder.add(UpSampling2D())\n",
        "autoencoder.add(Conv2D(16, kernel_size=3, activation='relu')) # 크기 유지시켜주는 padding 과정 없으므로 커널 적용되면서 크기 줄어들음.\n",
        "autoencoder.add(UpSampling2D())\n",
        "autoencoder.add(Conv2D(1, kernel_size=3, padding='same', activation='sigmoid'))"
      ],
      "execution_count": 14,
      "outputs": []
    },
    {
      "cell_type": "code",
      "metadata": {
        "colab": {
          "base_uri": "https://localhost:8080/"
        },
        "id": "6gdj1wDMKPtX",
        "outputId": "b9ebdf7a-4167-45a6-d71c-ce68f8f04237"
      },
      "source": [
        "# 전체 구조 확인\n",
        "autoencoder.summary()"
      ],
      "execution_count": 15,
      "outputs": [
        {
          "output_type": "stream",
          "text": [
            "Model: \"sequential_1\"\n",
            "_________________________________________________________________\n",
            "Layer (type)                 Output Shape              Param #   \n",
            "=================================================================\n",
            "conv2d_7 (Conv2D)            (None, 28, 28, 16)        160       \n",
            "_________________________________________________________________\n",
            "max_pooling2d_2 (MaxPooling2 (None, 14, 14, 16)        0         \n",
            "_________________________________________________________________\n",
            "conv2d_8 (Conv2D)            (None, 14, 14, 8)         1160      \n",
            "_________________________________________________________________\n",
            "max_pooling2d_3 (MaxPooling2 (None, 7, 7, 8)           0         \n",
            "_________________________________________________________________\n",
            "conv2d_9 (Conv2D)            (None, 4, 4, 8)           584       \n",
            "_________________________________________________________________\n",
            "conv2d_10 (Conv2D)           (None, 4, 4, 8)           584       \n",
            "_________________________________________________________________\n",
            "up_sampling2d_3 (UpSampling2 (None, 8, 8, 8)           0         \n",
            "_________________________________________________________________\n",
            "conv2d_11 (Conv2D)           (None, 8, 8, 8)           584       \n",
            "_________________________________________________________________\n",
            "up_sampling2d_4 (UpSampling2 (None, 16, 16, 8)         0         \n",
            "_________________________________________________________________\n",
            "conv2d_12 (Conv2D)           (None, 14, 14, 16)        1168      \n",
            "_________________________________________________________________\n",
            "up_sampling2d_5 (UpSampling2 (None, 28, 28, 16)        0         \n",
            "_________________________________________________________________\n",
            "conv2d_13 (Conv2D)           (None, 28, 28, 1)         145       \n",
            "=================================================================\n",
            "Total params: 4,385\n",
            "Trainable params: 4,385\n",
            "Non-trainable params: 0\n",
            "_________________________________________________________________\n"
          ],
          "name": "stdout"
        }
      ]
    },
    {
      "cell_type": "code",
      "metadata": {
        "colab": {
          "base_uri": "https://localhost:8080/"
        },
        "id": "Gr1pb04zKRVF",
        "outputId": "abda5311-16f7-4049-a706-367d9babe4d9"
      },
      "source": [
        "# 컴파일 및 학습을 하는 부분\n",
        "autoencoder.compile(optimizer='adam', loss='binary_crossentropy')\n",
        "autoencoder.fit(X_train, X_train, epochs=50, batch_size=128, validation_data=(X_test, X_test))"
      ],
      "execution_count": 16,
      "outputs": [
        {
          "output_type": "stream",
          "text": [
            "Epoch 1/50\n",
            "469/469 [==============================] - 75s 158ms/step - loss: 0.1989 - val_loss: 0.1338\n",
            "Epoch 2/50\n",
            "469/469 [==============================] - 75s 160ms/step - loss: 0.1260 - val_loss: 0.1184\n",
            "Epoch 3/50\n",
            "469/469 [==============================] - 76s 163ms/step - loss: 0.1156 - val_loss: 0.1110\n",
            "Epoch 4/50\n",
            "469/469 [==============================] - 77s 163ms/step - loss: 0.1096 - val_loss: 0.1059\n",
            "Epoch 5/50\n",
            "469/469 [==============================] - 77s 165ms/step - loss: 0.1053 - val_loss: 0.1021\n",
            "Epoch 6/50\n",
            "469/469 [==============================] - 76s 162ms/step - loss: 0.1017 - val_loss: 0.0990\n",
            "Epoch 7/50\n",
            "469/469 [==============================] - 75s 160ms/step - loss: 0.0991 - val_loss: 0.0970\n",
            "Epoch 8/50\n",
            "469/469 [==============================] - 75s 160ms/step - loss: 0.0971 - val_loss: 0.0950\n",
            "Epoch 9/50\n",
            "469/469 [==============================] - 75s 160ms/step - loss: 0.0953 - val_loss: 0.0937\n",
            "Epoch 10/50\n",
            "469/469 [==============================] - 75s 160ms/step - loss: 0.0937 - val_loss: 0.0917\n",
            "Epoch 11/50\n",
            "469/469 [==============================] - 75s 160ms/step - loss: 0.0924 - val_loss: 0.0906\n",
            "Epoch 12/50\n",
            "469/469 [==============================] - 75s 161ms/step - loss: 0.0914 - val_loss: 0.0897\n",
            "Epoch 13/50\n",
            "469/469 [==============================] - 77s 164ms/step - loss: 0.0905 - val_loss: 0.0889\n",
            "Epoch 14/50\n",
            "469/469 [==============================] - 77s 164ms/step - loss: 0.0897 - val_loss: 0.0882\n",
            "Epoch 15/50\n",
            "469/469 [==============================] - 77s 164ms/step - loss: 0.0890 - val_loss: 0.0875\n",
            "Epoch 16/50\n",
            "469/469 [==============================] - 76s 163ms/step - loss: 0.0883 - val_loss: 0.0870\n",
            "Epoch 17/50\n",
            "469/469 [==============================] - 77s 165ms/step - loss: 0.0877 - val_loss: 0.0867\n",
            "Epoch 18/50\n",
            "469/469 [==============================] - 77s 163ms/step - loss: 0.0872 - val_loss: 0.0858\n",
            "Epoch 19/50\n",
            "469/469 [==============================] - 77s 165ms/step - loss: 0.0867 - val_loss: 0.0854\n",
            "Epoch 20/50\n",
            "469/469 [==============================] - 76s 163ms/step - loss: 0.0862 - val_loss: 0.0849\n",
            "Epoch 21/50\n",
            "469/469 [==============================] - 76s 163ms/step - loss: 0.0857 - val_loss: 0.0844\n",
            "Epoch 22/50\n",
            "469/469 [==============================] - 76s 163ms/step - loss: 0.0853 - val_loss: 0.0847\n",
            "Epoch 23/50\n",
            "469/469 [==============================] - 76s 162ms/step - loss: 0.0849 - val_loss: 0.0838\n",
            "Epoch 24/50\n",
            "469/469 [==============================] - 77s 163ms/step - loss: 0.0845 - val_loss: 0.0832\n",
            "Epoch 25/50\n",
            "469/469 [==============================] - 77s 163ms/step - loss: 0.0842 - val_loss: 0.0830\n",
            "Epoch 26/50\n",
            "469/469 [==============================] - 77s 164ms/step - loss: 0.0839 - val_loss: 0.0828\n",
            "Epoch 27/50\n",
            "469/469 [==============================] - 77s 163ms/step - loss: 0.0836 - val_loss: 0.0824\n",
            "Epoch 28/50\n",
            "469/469 [==============================] - 77s 164ms/step - loss: 0.0834 - val_loss: 0.0822\n",
            "Epoch 29/50\n",
            "469/469 [==============================] - 77s 164ms/step - loss: 0.0832 - val_loss: 0.0821\n",
            "Epoch 30/50\n",
            "469/469 [==============================] - 77s 164ms/step - loss: 0.0830 - val_loss: 0.0819\n",
            "Epoch 31/50\n",
            "469/469 [==============================] - 78s 165ms/step - loss: 0.0828 - val_loss: 0.0817\n",
            "Epoch 32/50\n",
            "469/469 [==============================] - 79s 167ms/step - loss: 0.0826 - val_loss: 0.0814\n",
            "Epoch 33/50\n",
            "469/469 [==============================] - 77s 164ms/step - loss: 0.0825 - val_loss: 0.0815\n",
            "Epoch 34/50\n",
            "469/469 [==============================] - 78s 166ms/step - loss: 0.0823 - val_loss: 0.0815\n",
            "Epoch 35/50\n",
            "469/469 [==============================] - 77s 165ms/step - loss: 0.0822 - val_loss: 0.0812\n",
            "Epoch 36/50\n",
            "469/469 [==============================] - 78s 166ms/step - loss: 0.0820 - val_loss: 0.0810\n",
            "Epoch 37/50\n",
            "469/469 [==============================] - 77s 165ms/step - loss: 0.0820 - val_loss: 0.0811\n",
            "Epoch 38/50\n",
            "469/469 [==============================] - 77s 164ms/step - loss: 0.0819 - val_loss: 0.0809\n",
            "Epoch 39/50\n",
            "469/469 [==============================] - 77s 164ms/step - loss: 0.0817 - val_loss: 0.0806\n",
            "Epoch 40/50\n",
            "469/469 [==============================] - 77s 163ms/step - loss: 0.0816 - val_loss: 0.0808\n",
            "Epoch 41/50\n",
            "469/469 [==============================] - 76s 163ms/step - loss: 0.0816 - val_loss: 0.0804\n",
            "Epoch 42/50\n",
            "469/469 [==============================] - 76s 162ms/step - loss: 0.0815 - val_loss: 0.0804\n",
            "Epoch 43/50\n",
            "469/469 [==============================] - 77s 163ms/step - loss: 0.0813 - val_loss: 0.0805\n",
            "Epoch 44/50\n",
            "469/469 [==============================] - 77s 164ms/step - loss: 0.0813 - val_loss: 0.0804\n",
            "Epoch 45/50\n",
            "469/469 [==============================] - 77s 163ms/step - loss: 0.0812 - val_loss: 0.0802\n",
            "Epoch 46/50\n",
            "469/469 [==============================] - 77s 164ms/step - loss: 0.0811 - val_loss: 0.0800\n",
            "Epoch 47/50\n",
            "469/469 [==============================] - 77s 163ms/step - loss: 0.0811 - val_loss: 0.0800\n",
            "Epoch 48/50\n",
            "469/469 [==============================] - 77s 165ms/step - loss: 0.0809 - val_loss: 0.0804\n",
            "Epoch 49/50\n",
            "469/469 [==============================] - 77s 164ms/step - loss: 0.0809 - val_loss: 0.0799\n",
            "Epoch 50/50\n",
            "469/469 [==============================] - 78s 166ms/step - loss: 0.0808 - val_loss: 0.0798\n"
          ],
          "name": "stdout"
        },
        {
          "output_type": "execute_result",
          "data": {
            "text/plain": [
              "<tensorflow.python.keras.callbacks.History at 0x7fe3929cb410>"
            ]
          },
          "metadata": {
            "tags": []
          },
          "execution_count": 16
        }
      ]
    },
    {
      "cell_type": "code",
      "metadata": {
        "id": "399GSVjRKbm9"
      },
      "source": [
        "# 학습된 결과를 출력하는 부분\n",
        "random_test = np.random.randint(X_test.shape[0], size=5)"
      ],
      "execution_count": 17,
      "outputs": []
    },
    {
      "cell_type": "code",
      "metadata": {
        "id": "acGTvVTwKiT-"
      },
      "source": [
        "# 테스트할 이미지를 랜덤으로 호출\n",
        "ae_imgs = autoencoder.predict(X_test) # 앞서 만든 오토인코더 모델에 넣기"
      ],
      "execution_count": 18,
      "outputs": []
    },
    {
      "cell_type": "code",
      "metadata": {
        "id": "sTPWJFJnKnEd",
        "colab": {
          "base_uri": "https://localhost:8080/",
          "height": 52
        },
        "outputId": "a1ab878f-d0df-4345-fe35-8f0b456d6a3e"
      },
      "source": [
        "plt.figure(figsize=(7, 2))  # 출력 이미지 크기 정하기"
      ],
      "execution_count": 19,
      "outputs": [
        {
          "output_type": "execute_result",
          "data": {
            "text/plain": [
              "<Figure size 504x144 with 0 Axes>"
            ]
          },
          "metadata": {
            "tags": []
          },
          "execution_count": 19
        },
        {
          "output_type": "display_data",
          "data": {
            "text/plain": [
              "<Figure size 504x144 with 0 Axes>"
            ]
          },
          "metadata": {
            "tags": []
          }
        }
      ]
    },
    {
      "cell_type": "code",
      "metadata": {
        "id": "8RlB6A8cKp5z",
        "colab": {
          "base_uri": "https://localhost:8080/",
          "height": 190
        },
        "outputId": "6e0d64da-d692-411f-ff59-23142f27cdd3"
      },
      "source": [
        "for i, image_idx in enumerate(random_test):\n",
        "  # 랜덤으로 뽑은 이미지를 차례로 나열\n",
        "  ax = plt.subplot(2, 7, i+1)\n",
        "  # 테스트할 이미지를 먼저 그대로 보여줌\n",
        "  plt.imshow(X_test[image_idx].reshape(28, 28))\n",
        "  ax.axis('off')\n",
        "  ax = plt.subplot(2, 7, 7+i+1)\n",
        "  # 오토인코딩 결과를 다음 열에 입력\n",
        "  plt.imshow(ae_imgs[image_idx].reshape(28, 28))\n",
        "  ax.axis('off')\n",
        "plt.show()"
      ],
      "execution_count": 20,
      "outputs": [
        {
          "output_type": "display_data",
          "data": {
            "image/png": "[encoded data removed]",
            "text/plain": [
              "<Figure size 432x288 with 10 Axes>"
            ]
          },
          "metadata": {
            "tags": [],
            "needs_background": "light"
          }
        }
      ]
    }
  ]
}